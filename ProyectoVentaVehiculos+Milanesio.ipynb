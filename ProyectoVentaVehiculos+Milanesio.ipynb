{
 "cells": [
  {
   "cell_type": "markdown",
   "id": "bc1c8e1d",
   "metadata": {},
   "source": [
    "DESARROLLO PARTE 1"
   ]
  },
  {
   "cell_type": "markdown",
   "id": "6cacdec8",
   "metadata": {},
   "source": [
    "Introducción y descripción de los datos"
   ]
  },
  {
   "cell_type": "markdown",
   "id": "d4718961",
   "metadata": {},
   "source": [
    "Breve descripción del dataset: El dataset contiene registros de ventas de vehículos realizados en distintas provincias argentinas. Cada fila representa una transacción e incluye información sobre la fecha, ubicación, tipo de comprador, características del vehículo y variables económicas como precio en dólares y valor del dólar al momento de la venta."
   ]
  },
  {
   "cell_type": "code",
   "execution_count": null,
   "id": "858d136a",
   "metadata": {},
   "outputs": [
    {
     "data": {
      "text/html": [
       "<div>\n",
       "<style scoped>\n",
       "    .dataframe tbody tr th:only-of-type {\n",
       "        vertical-align: middle;\n",
       "    }\n",
       "\n",
       "    .dataframe tbody tr th {\n",
       "        vertical-align: top;\n",
       "    }\n",
       "\n",
       "    .dataframe thead th {\n",
       "        text-align: right;\n",
       "    }\n",
       "</style>\n",
       "<table border=\"1\" class=\"dataframe\">\n",
       "  <thead>\n",
       "    <tr style=\"text-align: right;\">\n",
       "      <th></th>\n",
       "      <th>Variable</th>\n",
       "      <th>Descripción</th>\n",
       "    </tr>\n",
       "  </thead>\n",
       "  <tbody>\n",
       "    <tr>\n",
       "      <th>0</th>\n",
       "      <td>ID_Venta</td>\n",
       "      <td>Identificador único de cada venta.</td>\n",
       "    </tr>\n",
       "    <tr>\n",
       "      <th>1</th>\n",
       "      <td>Fecha_Venta</td>\n",
       "      <td>Fecha en la que se concretó la venta del vehíc...</td>\n",
       "    </tr>\n",
       "    <tr>\n",
       "      <th>2</th>\n",
       "      <td>Provincia</td>\n",
       "      <td>Provincia argentina donde se realizó la venta.</td>\n",
       "    </tr>\n",
       "    <tr>\n",
       "      <th>3</th>\n",
       "      <td>Tipo_Comprador</td>\n",
       "      <td>Indica si el comprador es particular o empresa.</td>\n",
       "    </tr>\n",
       "    <tr>\n",
       "      <th>4</th>\n",
       "      <td>Tipo_Empresa</td>\n",
       "      <td>Categoría de la empresa (si corresponde).</td>\n",
       "    </tr>\n",
       "    <tr>\n",
       "      <th>5</th>\n",
       "      <td>Vehiculo_Nuevo</td>\n",
       "      <td>Indica si el vehículo es nuevo (SI/No).</td>\n",
       "    </tr>\n",
       "    <tr>\n",
       "      <th>6</th>\n",
       "      <td>Marca</td>\n",
       "      <td>Marca del vehículo vendido.</td>\n",
       "    </tr>\n",
       "    <tr>\n",
       "      <th>7</th>\n",
       "      <td>Tipo_Vehiculo</td>\n",
       "      <td>Clasificación general del vehículo (Auto, SUV,...</td>\n",
       "    </tr>\n",
       "    <tr>\n",
       "      <th>8</th>\n",
       "      <td>Kilometraje</td>\n",
       "      <td>Cantidad de kilómetros recorridos por el vehíc...</td>\n",
       "    </tr>\n",
       "    <tr>\n",
       "      <th>9</th>\n",
       "      <td>Precio_USD</td>\n",
       "      <td>Precio de venta del vehículo en dólares.</td>\n",
       "    </tr>\n",
       "    <tr>\n",
       "      <th>10</th>\n",
       "      <td>Valor_Dolar</td>\n",
       "      <td>Cotización del dólar en el momento de la venta.</td>\n",
       "    </tr>\n",
       "    <tr>\n",
       "      <th>11</th>\n",
       "      <td>Modelo_Vehiculo</td>\n",
       "      <td>Año de modelo del vehículo.</td>\n",
       "    </tr>\n",
       "    <tr>\n",
       "      <th>12</th>\n",
       "      <td>Consumo_Litros_100km</td>\n",
       "      <td>Consumo de combustible estimado.</td>\n",
       "    </tr>\n",
       "    <tr>\n",
       "      <th>13</th>\n",
       "      <td>Costo_Mantenimiento_Anual</td>\n",
       "      <td>Costo anual estimado de mantenimiento del vehí...</td>\n",
       "    </tr>\n",
       "    <tr>\n",
       "      <th>14</th>\n",
       "      <td>Color</td>\n",
       "      <td>Color del vehículo vendido.</td>\n",
       "    </tr>\n",
       "  </tbody>\n",
       "</table>\n",
       "</div>"
      ],
      "text/plain": [
       "                     Variable  \\\n",
       "0                    ID_Venta   \n",
       "1                 Fecha_Venta   \n",
       "2                   Provincia   \n",
       "3              Tipo_Comprador   \n",
       "4                Tipo_Empresa   \n",
       "5              Vehiculo_Nuevo   \n",
       "6                       Marca   \n",
       "7               Tipo_Vehiculo   \n",
       "8                 Kilometraje   \n",
       "9                  Precio_USD   \n",
       "10                Valor_Dolar   \n",
       "11            Modelo_Vehiculo   \n",
       "12       Consumo_Litros_100km   \n",
       "13  Costo_Mantenimiento_Anual   \n",
       "14                      Color   \n",
       "\n",
       "                                          Descripción  \n",
       "0                  Identificador único de cada venta.  \n",
       "1   Fecha en la que se concretó la venta del vehíc...  \n",
       "2      Provincia argentina donde se realizó la venta.  \n",
       "3     Indica si el comprador es particular o empresa.  \n",
       "4           Categoría de la empresa (si corresponde).  \n",
       "5             Indica si el vehículo es nuevo (SI/No).  \n",
       "6                         Marca del vehículo vendido.  \n",
       "7   Clasificación general del vehículo (Auto, SUV,...  \n",
       "8   Cantidad de kilómetros recorridos por el vehíc...  \n",
       "9            Precio de venta del vehículo en dólares.  \n",
       "10    Cotización del dólar en el momento de la venta.  \n",
       "11                        Año de modelo del vehículo.  \n",
       "12                   Consumo de combustible estimado.  \n",
       "13  Costo anual estimado de mantenimiento del vehí...  \n",
       "14                        Color del vehículo vendido.  "
      ]
     },
     "execution_count": 17,
     "metadata": {},
     "output_type": "execute_result"
    }
   ],
   "source": [
    "import pandas as pd\n",
    "\n",
    "df = pd.read_csv('ProyectoVentaVehiculos+Milanesio.csv', delimiter=';')\n",
    "\n",
    "datos = {\n",
    "    \"Variable\": [\n",
    "        \"ID_Venta\", \"Fecha_Venta\", \"Provincia\", \"Tipo_Comprador\", \"Tipo_Empresa\",\n",
    "        \"Vehiculo_Nuevo\", \"Marca\", \"Tipo_Vehiculo\", \"Kilometraje\", \"Precio_USD\",\n",
    "        \"Valor_Dolar\", \"Modelo_Vehiculo\", \"Consumo_Litros_100km\",\n",
    "        \"Costo_Mantenimiento_Anual\", \"Color\"\n",
    "    ],\n",
    "    \"Descripción\": [\n",
    "        \"Identificador único de cada venta.\",\n",
    "        \"Fecha en la que se concretó la venta del vehículo.\",\n",
    "        \"Provincia argentina donde se realizó la venta.\",\n",
    "        \"Indica si el comprador es particular o empresa.\",\n",
    "        \"Categoría de la empresa (si corresponde).\",\n",
    "        \"Indica si el vehículo es nuevo (SI/No).\",\n",
    "        \"Marca del vehículo vendido.\",\n",
    "        \"Clasificación general del vehículo (Auto, SUV, Camioneta, etc.).\",\n",
    "        \"Cantidad de kilómetros recorridos por el vehículo (0 si es nuevo).\",\n",
    "        \"Precio de venta del vehículo en dólares.\",\n",
    "        \"Cotización del dólar en el momento de la venta.\",\n",
    "        \"Año de modelo del vehículo.\",\n",
    "        \"Consumo de combustible estimado.\",\n",
    "        \"Costo anual estimado de mantenimiento del vehículo.\",\n",
    "        \"Color del vehículo vendido.\"\n",
    "    ]\n",
    "}\n",
    "\n",
    "\n",
    "tabla_descriptiva = pd.DataFrame(datos)\n",
    "tabla_descriptiva"
   ]
  },
  {
   "cell_type": "markdown",
   "id": "08f4828c",
   "metadata": {},
   "source": [
    "0. Etapa 0: Importando el dataset elegido, correspondiente a la venta de vehiculos en Argentina"
   ]
  },
  {
   "cell_type": "code",
   "execution_count": 9,
   "id": "2a92cdf8",
   "metadata": {},
   "outputs": [
    {
     "data": {
      "text/html": [
       "<div>\n",
       "<style scoped>\n",
       "    .dataframe tbody tr th:only-of-type {\n",
       "        vertical-align: middle;\n",
       "    }\n",
       "\n",
       "    .dataframe tbody tr th {\n",
       "        vertical-align: top;\n",
       "    }\n",
       "\n",
       "    .dataframe thead th {\n",
       "        text-align: right;\n",
       "    }\n",
       "</style>\n",
       "<table border=\"1\" class=\"dataframe\">\n",
       "  <thead>\n",
       "    <tr style=\"text-align: right;\">\n",
       "      <th></th>\n",
       "      <th>ID_Venta</th>\n",
       "      <th>Fecha_Venta</th>\n",
       "      <th>Provincia</th>\n",
       "      <th>Tipo_Comprador</th>\n",
       "      <th>Tipo_Empresa</th>\n",
       "      <th>Vehiculo_Nuevo</th>\n",
       "      <th>Marca</th>\n",
       "      <th>Tipo_Vehiculo</th>\n",
       "      <th>Kilometraje</th>\n",
       "      <th>Precio_USD</th>\n",
       "      <th>Valor_Dolar</th>\n",
       "      <th>Modelo_Vehiculo</th>\n",
       "      <th>Consumo_Litros_100km</th>\n",
       "      <th>Costo_Mantenimiento_Anual</th>\n",
       "      <th>Color</th>\n",
       "    </tr>\n",
       "  </thead>\n",
       "  <tbody>\n",
       "    <tr>\n",
       "      <th>0</th>\n",
       "      <td>1</td>\n",
       "      <td>18/3/2022</td>\n",
       "      <td>Tucuman</td>\n",
       "      <td>Particular</td>\n",
       "      <td>NaN</td>\n",
       "      <td>SI</td>\n",
       "      <td>Mercedes-Benz</td>\n",
       "      <td>Trafic</td>\n",
       "      <td>0</td>\n",
       "      <td>76177,50483</td>\n",
       "      <td>131,6969387</td>\n",
       "      <td>2022</td>\n",
       "      <td>21,83582946</td>\n",
       "      <td>3871,603355</td>\n",
       "      <td>Gris</td>\n",
       "    </tr>\n",
       "    <tr>\n",
       "      <th>1</th>\n",
       "      <td>2</td>\n",
       "      <td>21/9/2022</td>\n",
       "      <td>Cordoba</td>\n",
       "      <td>Particular</td>\n",
       "      <td>NaN</td>\n",
       "      <td>No</td>\n",
       "      <td>Toyota</td>\n",
       "      <td>SUV</td>\n",
       "      <td>237740</td>\n",
       "      <td>59373,04844</td>\n",
       "      <td>129,0038998</td>\n",
       "      <td>2005</td>\n",
       "      <td>9,974152895</td>\n",
       "      <td>3218,352379</td>\n",
       "      <td>Gris</td>\n",
       "    </tr>\n",
       "    <tr>\n",
       "      <th>2</th>\n",
       "      <td>3</td>\n",
       "      <td>10/3/2022</td>\n",
       "      <td>Santa Fe</td>\n",
       "      <td>Particular</td>\n",
       "      <td>NaN</td>\n",
       "      <td>No</td>\n",
       "      <td>Mercedes-Benz</td>\n",
       "      <td>Trafic</td>\n",
       "      <td>108993</td>\n",
       "      <td>73487,05255</td>\n",
       "      <td>156,5218273</td>\n",
       "      <td>2005</td>\n",
       "      <td>11,16530746</td>\n",
       "      <td>532,2744038</td>\n",
       "      <td>Gris</td>\n",
       "    </tr>\n",
       "    <tr>\n",
       "      <th>3</th>\n",
       "      <td>4</td>\n",
       "      <td>5/8/2023</td>\n",
       "      <td>Tucuman</td>\n",
       "      <td>Particular</td>\n",
       "      <td>NaN</td>\n",
       "      <td>No</td>\n",
       "      <td>Toyota</td>\n",
       "      <td>Auto</td>\n",
       "      <td>209384</td>\n",
       "      <td>13798,06515</td>\n",
       "      <td>120,8424526</td>\n",
       "      <td>2016</td>\n",
       "      <td>20,12482988</td>\n",
       "      <td>836,8467469</td>\n",
       "      <td>Gris</td>\n",
       "    </tr>\n",
       "    <tr>\n",
       "      <th>4</th>\n",
       "      <td>5</td>\n",
       "      <td>15/12/2023</td>\n",
       "      <td>Misiones</td>\n",
       "      <td>Particular</td>\n",
       "      <td>NaN</td>\n",
       "      <td>No</td>\n",
       "      <td>Ford</td>\n",
       "      <td>Camion</td>\n",
       "      <td>103248</td>\n",
       "      <td>24093,02155</td>\n",
       "      <td>177,7582825</td>\n",
       "      <td>2016</td>\n",
       "      <td>7,107215815</td>\n",
       "      <td>4859,986977</td>\n",
       "      <td>Gris</td>\n",
       "    </tr>\n",
       "  </tbody>\n",
       "</table>\n",
       "</div>"
      ],
      "text/plain": [
       "   ID_Venta Fecha_Venta Provincia Tipo_Comprador Tipo_Empresa Vehiculo_Nuevo  \\\n",
       "0         1   18/3/2022   Tucuman     Particular          NaN             SI   \n",
       "1         2   21/9/2022   Cordoba     Particular          NaN             No   \n",
       "2         3   10/3/2022  Santa Fe     Particular          NaN             No   \n",
       "3         4    5/8/2023   Tucuman     Particular          NaN             No   \n",
       "4         5  15/12/2023  Misiones     Particular          NaN             No   \n",
       "\n",
       "           Marca Tipo_Vehiculo  Kilometraje   Precio_USD  Valor_Dolar  \\\n",
       "0  Mercedes-Benz        Trafic            0  76177,50483  131,6969387   \n",
       "1         Toyota           SUV       237740  59373,04844  129,0038998   \n",
       "2  Mercedes-Benz        Trafic       108993  73487,05255  156,5218273   \n",
       "3         Toyota          Auto       209384  13798,06515  120,8424526   \n",
       "4           Ford        Camion       103248  24093,02155  177,7582825   \n",
       "\n",
       "   Modelo_Vehiculo Consumo_Litros_100km Costo_Mantenimiento_Anual  Color  \n",
       "0             2022          21,83582946               3871,603355  Gris   \n",
       "1             2005          9,974152895               3218,352379  Gris   \n",
       "2             2005          11,16530746               532,2744038  Gris   \n",
       "3             2016          20,12482988               836,8467469  Gris   \n",
       "4             2016          7,107215815               4859,986977  Gris   "
      ]
     },
     "execution_count": 9,
     "metadata": {},
     "output_type": "execute_result"
    }
   ],
   "source": [
    "import pandas as pd\n",
    "\n",
    "df = pd.read_csv('ProyectoVentaVehiculos+Milanesio.csv', delimiter=';')\n",
    "df.head()"
   ]
  },
  {
   "cell_type": "markdown",
   "id": "4177b4ce",
   "metadata": {},
   "source": [
    "1. Etapa 1:  Desarrollo preliminar - Conociendo el dataset"
   ]
  },
  {
   "cell_type": "code",
   "execution_count": 10,
   "id": "1780e61d",
   "metadata": {},
   "outputs": [
    {
     "name": "stdout",
     "output_type": "stream",
     "text": [
      "Filas y columnas: (2000, 15)\n"
     ]
    }
   ],
   "source": [
    "print(\"Filas y columnas:\", df.shape)"
   ]
  },
  {
   "cell_type": "code",
   "execution_count": 11,
   "id": "05689444",
   "metadata": {},
   "outputs": [
    {
     "name": "stdout",
     "output_type": "stream",
     "text": [
      "Tipos de datos por columna:\n",
      "ID_Venta                      int64\n",
      "Fecha_Venta                  object\n",
      "Provincia                    object\n",
      "Tipo_Comprador               object\n",
      "Tipo_Empresa                 object\n",
      "Vehiculo_Nuevo               object\n",
      "Marca                        object\n",
      "Tipo_Vehiculo                object\n",
      "Kilometraje                   int64\n",
      "Precio_USD                   object\n",
      "Valor_Dolar                  object\n",
      "Modelo_Vehiculo               int64\n",
      "Consumo_Litros_100km         object\n",
      "Costo_Mantenimiento_Anual    object\n",
      "Color                        object\n",
      "dtype: object\n"
     ]
    }
   ],
   "source": [
    "print(\"Tipos de datos por columna:\")\n",
    "print(df.dtypes)"
   ]
  },
  {
   "cell_type": "code",
   "execution_count": 12,
   "id": "9cd46d4e",
   "metadata": {},
   "outputs": [
    {
     "name": "stdout",
     "output_type": "stream",
     "text": [
      "Tipos de datos después de la conversión:\n",
      "ID_Venta                              int64\n",
      "Fecha_Venta                  datetime64[ns]\n",
      "Provincia                            object\n",
      "Tipo_Comprador                       object\n",
      "Tipo_Empresa                         object\n",
      "Vehiculo_Nuevo                       object\n",
      "Marca                                object\n",
      "Tipo_Vehiculo                        object\n",
      "Kilometraje                           int64\n",
      "Precio_USD                          float64\n",
      "Valor_Dolar                         float64\n",
      "Modelo_Vehiculo                       int64\n",
      "Consumo_Litros_100km                float64\n",
      "Costo_Mantenimiento_Anual           float64\n",
      "Color                                object\n",
      "dtype: object\n"
     ]
    }
   ],
   "source": [
    "# Convertir columna de fecha\n",
    "df['Fecha_Venta'] = pd.to_datetime(df['Fecha_Venta'], dayfirst=True, errors='coerce')\n",
    "\n",
    "# Convertir columnas numéricas con separador decimal como coma a float\n",
    "columnas_a_convertir = [\n",
    "    'Precio_USD',\n",
    "    'Valor_Dolar',\n",
    "    'Consumo_Litros_100km',\n",
    "    'Costo_Mantenimiento_Anual'\n",
    "]\n",
    "\n",
    "for col in columnas_a_convertir:\n",
    "    df[col] = df[col].str.replace(',', '.', regex=False)\n",
    "    df[col] = pd.to_numeric(df[col], errors='coerce')\n",
    "\n",
    "# Verificamos los nuevos tipos de datos\n",
    "print(\"Tipos de datos después de la conversión:\")\n",
    "print(df.dtypes)\n"
   ]
  },
  {
   "cell_type": "code",
   "execution_count": 13,
   "id": "3d5504d4",
   "metadata": {},
   "outputs": [
    {
     "name": "stdout",
     "output_type": "stream",
     "text": [
      "Registros nulos en el dataset ID_Venta                        0\n",
      "Fecha_Venta                     0\n",
      "Provincia                       0\n",
      "Tipo_Comprador                  0\n",
      "Tipo_Empresa                 1405\n",
      "Vehiculo_Nuevo                  0\n",
      "Marca                           0\n",
      "Tipo_Vehiculo                   0\n",
      "Kilometraje                     0\n",
      "Precio_USD                      0\n",
      "Valor_Dolar                     0\n",
      "Modelo_Vehiculo                 0\n",
      "Consumo_Litros_100km            0\n",
      "Costo_Mantenimiento_Anual       0\n",
      "Color                           0\n",
      "dtype: int64\n"
     ]
    }
   ],
   "source": [
    "print(\"Registros nulos en el dataset\",df.isnull().sum())"
   ]
  },
  {
   "cell_type": "code",
   "execution_count": null,
   "id": "47d22eec",
   "metadata": {},
   "outputs": [],
   "source": [
    "#Obs. Se volvio a correr el codigo luego de completar los registros vacios. Razon por la que se obtiene un dataset sin registros vacios."
   ]
  },
  {
   "cell_type": "code",
   "execution_count": 14,
   "id": "0f855439",
   "metadata": {},
   "outputs": [
    {
     "name": "stdout",
     "output_type": "stream",
     "text": [
      "Registros nulos en tipos de empresas: 0\n"
     ]
    }
   ],
   "source": [
    "#Debido a que en los tipos de compradores que son \"Particular\" tienen registros vacios en \"Tipo_empresa\", \n",
    "#se procede a completar los valores vacios por \"No Aplica\".\n",
    "\n",
    "df['Tipo_Empresa'] = df['Tipo_Empresa'].fillna('No Aplica')\n",
    "print(\"Registros nulos en tipos de empresas:\",df['Tipo_Empresa'].isnull().sum())"
   ]
  },
  {
   "cell_type": "code",
   "execution_count": 15,
   "id": "ae8d0e6d",
   "metadata": {},
   "outputs": [
    {
     "name": "stdout",
     "output_type": "stream",
     "text": [
      "Años de venta registrados: [2022 2023]\n"
     ]
    }
   ],
   "source": [
    "print(\"Años de venta registrados:\", df['Fecha_Venta'].dt.year.dropna().unique())"
   ]
  },
  {
   "cell_type": "code",
   "execution_count": 16,
   "id": "56f6e1ea",
   "metadata": {},
   "outputs": [
    {
     "name": "stdout",
     "output_type": "stream",
     "text": [
      "Provincias en las que se ha vendido: ['Tucuman' 'Cordoba' 'Santa Fe' 'Misiones' 'Salta' 'Buenos Aires'\n",
      " 'Mendoza' 'Entre Rios']\n"
     ]
    }
   ],
   "source": [
    "print(\"Provincias en las que se ha vendido:\", df['Provincia'].unique())"
   ]
  },
  {
   "cell_type": "code",
   "execution_count": 17,
   "id": "450deef5",
   "metadata": {},
   "outputs": [
    {
     "name": "stdout",
     "output_type": "stream",
     "text": [
      "Marcas que se han vendido: ['Mercedes-Benz' 'Toyota' 'Ford' 'Nissan' 'Chevrolet' 'Renault' 'Fiat'\n",
      " 'Volkswagen']\n"
     ]
    }
   ],
   "source": [
    "print(\"Marcas que se han vendido:\", df['Marca'].unique())"
   ]
  },
  {
   "cell_type": "code",
   "execution_count": 18,
   "id": "e1d0d984",
   "metadata": {},
   "outputs": [
    {
     "name": "stdout",
     "output_type": "stream",
     "text": [
      "Tipos de vehículo: ['Trafic' 'SUV' 'Auto' 'Camion' 'Camioneta' 'Moto']\n"
     ]
    }
   ],
   "source": [
    "print(\"Tipos de vehículo:\", df['Tipo_Vehiculo'].unique())"
   ]
  },
  {
   "cell_type": "code",
   "execution_count": 19,
   "id": "ab07002e",
   "metadata": {},
   "outputs": [
    {
     "name": "stdout",
     "output_type": "stream",
     "text": [
      "Valor Dólar - Mínimo: 80.49\n",
      "Valor Dólar - Promedio: 148.90\n",
      "Valor Dólar - Máximo: 199.96\n"
     ]
    }
   ],
   "source": [
    "min_dolar = df['Valor_Dolar'].min()\n",
    "prom_dolar = df['Valor_Dolar'].mean()\n",
    "max_dolar = df['Valor_Dolar'].max()\n",
    "\n",
    "print(f\"Valor Dólar - Mínimo: {min_dolar:.2f}\")\n",
    "print(f\"Valor Dólar - Promedio: {prom_dolar:.2f}\")\n",
    "print(f\"Valor Dólar - Máximo: {max_dolar:.2f}\")"
   ]
  },
  {
   "cell_type": "code",
   "execution_count": 20,
   "id": "227d85db",
   "metadata": {},
   "outputs": [
    {
     "name": "stdout",
     "output_type": "stream",
     "text": [
      "Consumo (L/100km) - Mínimo: 5.00 \n",
      "Consumo (L/100km) - Promedio: 15.05 \n",
      "Consumo (L/100km) - Máximo: 24.99 \n"
     ]
    }
   ],
   "source": [
    "min_consumo = df['Consumo_Litros_100km'].min()\n",
    "prom_consumo = df['Consumo_Litros_100km'].mean()\n",
    "max_consumo = df['Consumo_Litros_100km'].max()\n",
    "\n",
    "print(f\"Consumo (L/100km) - Mínimo: {min_consumo:.2f} \")\n",
    "print(f\"Consumo (L/100km) - Promedio: {prom_consumo:.2f} \")\n",
    "print(f\"Consumo (L/100km) - Máximo: {max_consumo:.2f} \")"
   ]
  },
  {
   "cell_type": "code",
   "execution_count": 21,
   "id": "dd12854f",
   "metadata": {},
   "outputs": [
    {
     "name": "stdout",
     "output_type": "stream",
     "text": [
      "Costo Mantenimiento Anual - Mínimo: 506.66\n",
      "Costo Mantenimiento Anual - Promedio: 2779.06\n",
      "Costo Mantenimiento Anual - Máximo: 4999.90\n"
     ]
    }
   ],
   "source": [
    "min_mantenimiento = df['Costo_Mantenimiento_Anual'].min()\n",
    "prom_mantenimiento = df['Costo_Mantenimiento_Anual'].mean()\n",
    "max_mantenimiento = df['Costo_Mantenimiento_Anual'].max()\n",
    "\n",
    "print(f\"Costo Mantenimiento Anual - Mínimo: {min_mantenimiento:.2f}\")\n",
    "print(f\"Costo Mantenimiento Anual - Promedio: {prom_mantenimiento:.2f}\")\n",
    "print(f\"Costo Mantenimiento Anual - Máximo: {max_mantenimiento:.2f}\")"
   ]
  },
  {
   "cell_type": "code",
   "execution_count": 22,
   "id": "1dd1c710",
   "metadata": {},
   "outputs": [
    {
     "name": "stdout",
     "output_type": "stream",
     "text": [
      "Kilometraje mínimo: 5045\n",
      "Kilometraje promedio: 152393.45\n",
      "Kilometraje máximo: 299863\n"
     ]
    }
   ],
   "source": [
    "# Filtrar vehículos usados\n",
    "vehiculos_usados = df[df['Vehiculo_Nuevo'] == 'No']\n",
    "\n",
    "min_km = vehiculos_usados['Kilometraje'].min()\n",
    "prom_km = vehiculos_usados['Kilometraje'].mean()\n",
    "max_km = vehiculos_usados['Kilometraje'].max()\n",
    "\n",
    "print(f\"Kilometraje mínimo: {min_km}\")\n",
    "print(f\"Kilometraje promedio: {prom_km:.2f}\")\n",
    "print(f\"Kilometraje máximo: {max_km}\")"
   ]
  },
  {
   "cell_type": "markdown",
   "id": "3a3869ae",
   "metadata": {},
   "source": [
    "2. Etapa 2: Desarrollo preliminar - Analizando el dataset."
   ]
  },
  {
   "cell_type": "markdown",
   "id": "9d21c49f",
   "metadata": {},
   "source": [
    "2.1. Cantidad de vehiculos vendidos por provincia"
   ]
  },
  {
   "cell_type": "markdown",
   "id": "2ee1df94",
   "metadata": {},
   "source": [
    "2.1.1. Desarrollo Cuantitativo"
   ]
  },
  {
   "cell_type": "code",
   "execution_count": 23,
   "id": "783709e9",
   "metadata": {},
   "outputs": [
    {
     "name": "stdout",
     "output_type": "stream",
     "text": [
      "      Provincia  Cantidad\n",
      "0  Buenos Aires       801\n",
      "1      Santa Fe       568\n",
      "2       Cordoba       219\n",
      "3       Mendoza       143\n",
      "4       Tucuman       100\n",
      "5    Entre Rios        61\n",
      "6         Salta        56\n",
      "7      Misiones        52\n"
     ]
    }
   ],
   "source": [
    "# Cantidad de vehículos vendidos por Provincia\n",
    "cantidad_vehiculos_provincia = df['Provincia'].value_counts().reset_index()\n",
    "cantidad_vehiculos_provincia.columns = ['Provincia', 'Cantidad']\n",
    "print(cantidad_vehiculos_provincia)\n"
   ]
  },
  {
   "cell_type": "markdown",
   "id": "8746c1a8",
   "metadata": {},
   "source": [
    "2.2.2. Desarrollo Grafico"
   ]
  },
  {
   "cell_type": "code",
   "execution_count": 24,
   "id": "d439ce2d",
   "metadata": {},
   "outputs": [
    {
     "data": {
      "image/png": "[encoded data removed]",
      "text/plain": [
       "<Figure size 1200x600 with 1 Axes>"
      ]
     },
     "metadata": {},
     "output_type": "display_data"
    }
   ],
   "source": [
    "import matplotlib.pyplot as plt\n",
    "\n",
    "# Ordenar los datos por cantidad de vehículos vendidos\n",
    "cantidad_vehiculos_provincia = cantidad_vehiculos_provincia.sort_values(by='Cantidad', ascending=False)\n",
    "\n",
    "# Crear el gráfico\n",
    "plt.figure(figsize=(12, 6))\n",
    "plt.bar(cantidad_vehiculos_provincia['Provincia'], cantidad_vehiculos_provincia['Cantidad'], color='blue')\n",
    "\n",
    "# Títulos y etiquetas\n",
    "plt.title('Cantidad de Vehículos Vendidos por Provincia', fontsize=16, color='black')\n",
    "plt.xlabel('Provincias', fontsize=12, color='black')\n",
    "plt.ylabel('Cantidad de Vehículos Vendidos', fontsize=12, color='black')\n",
    "\n",
    "# Rotar etiquetas del eje X\n",
    "plt.xticks(rotation=0, fontsize=10, color='black')\n",
    "plt.yticks(color='black')\n",
    "\n",
    "# Eliminar borde y ejes\n",
    "for spine in plt.gca().spines.values():\n",
    "    spine.set_visible(False)\n",
    "\n",
    "plt.gca().tick_params(left=False, bottom=False)  # quitar marcas de los ejes\n",
    "plt.gca().set_axisbelow(True)  # Para enviar grid detrás de las barras\n",
    "\n",
    "# Mostrar el gráfico\n",
    "plt.tight_layout()\n",
    "plt.show()\n"
   ]
  },
  {
   "cell_type": "markdown",
   "id": "98435fca",
   "metadata": {},
   "source": [
    "3. Etapa 3: Desarrollo de consignas"
   ]
  },
  {
   "cell_type": "markdown",
   "id": "c81fef9c",
   "metadata": {},
   "source": [
    "3.1. Preguntas de interes"
   ]
  },
  {
   "cell_type": "markdown",
   "id": "3eb6b6d8",
   "metadata": {},
   "source": [
    "3.1.1. ¿Qué provincias concentran más ventas de vehículos nuevos y cuáles de usados?"
   ]
  },
  {
   "cell_type": "markdown",
   "id": "71cf8f4d",
   "metadata": {},
   "source": [
    "3.1.2. ¿Qué marcas dominan los ingresos en venta de vehículos ?"
   ]
  },
  {
   "cell_type": "markdown",
   "id": "6c33c1ed",
   "metadata": {},
   "source": [
    "3.2. Graficos y análisis"
   ]
  },
  {
   "cell_type": "markdown",
   "id": "dab30df6",
   "metadata": {},
   "source": [
    "3.2.1. ¿Qué provincias concentran más ventas de vehículos nuevos y cuáles de usados?"
   ]
  },
  {
   "cell_type": "markdown",
   "id": "f5079b0f",
   "metadata": {},
   "source": [
    "3.2.1.1. Desarrollo Grafico"
   ]
  },
  {
   "cell_type": "code",
   "execution_count": 25,
   "id": "9a3bad79",
   "metadata": {},
   "outputs": [
    {
     "data": {
      "application/vnd.plotly.v1+json": {
       "config": {
        "plotlyServerURL": "https://plot.ly"
       },
       "data": [
        {
         "alignmentgroup": "True",
         "hovertemplate": "Tipo de Vehículo=Usado<br>Provincia=%{x}<br>Cantidad de Vehículos Vendidos=%{y}<extra></extra>",
         "legendgroup": "Usado",
         "marker": {
          "color": "RED",
          "pattern": {
           "shape": ""
          }
         },
         "name": "Usado",
         "offsetgroup": "Usado",
         "orientation": "v",
         "showlegend": true,
         "textposition": "auto",
         "type": "bar",
         "x": [
          "Buenos Aires",
          "Santa Fe",
          "Cordoba",
          "Mendoza",
          "Tucuman",
          "Entre Rios",
          "Salta",
          "Misiones"
         ],
         "xaxis": "x",
         "y": [
          585,
          387,
          166,
          98,
          65,
          39,
          43,
          31
         ],
         "yaxis": "y"
        },
        {
         "alignmentgroup": "True",
         "hovertemplate": "Tipo de Vehículo=Nuevo<br>Provincia=%{x}<br>Cantidad de Vehículos Vendidos=%{y}<extra></extra>",
         "legendgroup": "Nuevo",
         "marker": {
          "color": "BLUE",
          "pattern": {
           "shape": ""
          }
         },
         "name": "Nuevo",
         "offsetgroup": "Nuevo",
         "orientation": "v",
         "showlegend": true,
         "textposition": "auto",
         "type": "bar",
         "x": [
          "Buenos Aires",
          "Santa Fe",
          "Cordoba",
          "Mendoza",
          "Tucuman",
          "Entre Rios",
          "Salta",
          "Misiones"
         ],
         "xaxis": "x",
         "y": [
          216,
          181,
          53,
          45,
          35,
          22,
          13,
          21
         ],
         "yaxis": "y"
        }
       ],
       "layout": {
        "barmode": "group",
        "font": {
         "color": "black"
        },
        "legend": {
         "font": {
          "color": "black",
          "size": 12
         },
         "title": {
          "font": {
           "color": "black",
           "size": 14
          },
          "text": "Tipo de Vehículo"
         },
         "tracegroupgap": 0
        },
        "plot_bgcolor": "white",
        "template": {
         "data": {
          "bar": [
           {
            "error_x": {
             "color": "#2a3f5f"
            },
            "error_y": {
             "color": "#2a3f5f"
            },
            "marker": {
             "line": {
              "color": "#E5ECF6",
              "width": 0.5
             },
             "pattern": {
              "fillmode": "overlay",
              "size": 10,
              "solidity": 0.2
             }
            },
            "type": "bar"
           }
          ],
          "barpolar": [
           {
            "marker": {
             "line": {
              "color": "#E5ECF6",
              "width": 0.5
             },
             "pattern": {
              "fillmode": "overlay",
              "size": 10,
              "solidity": 0.2
             }
            },
            "type": "barpolar"
           }
          ],
          "carpet": [
           {
            "aaxis": {
             "endlinecolor": "#2a3f5f",
             "gridcolor": "white",
             "linecolor": "white",
             "minorgridcolor": "white",
             "startlinecolor": "#2a3f5f"
            },
            "baxis": {
             "endlinecolor": "#2a3f5f",
             "gridcolor": "white",
             "linecolor": "white",
             "minorgridcolor": "white",
             "startlinecolor": "#2a3f5f"
            },
            "type": "carpet"
           }
          ],
          "choropleth": [
           {
            "colorbar": {
             "outlinewidth": 0,
             "ticks": ""
            },
            "type": "choropleth"
           }
          ],
          "contour": [
           {
            "colorbar": {
             "outlinewidth": 0,
             "ticks": ""
            },
            "colorscale": [
             [
              0,
              "#0d0887"
             ],
             [
              0.1111111111111111,
              "#46039f"
             ],
             [
              0.2222222222222222,
              "#7201a8"
             ],
             [
              0.3333333333333333,
              "#9c179e"
             ],
             [
              0.4444444444444444,
              "#bd3786"
             ],
             [
              0.5555555555555556,
              "#d8576b"
             ],
             [
              0.6666666666666666,
              "#ed7953"
             ],
             [
              0.7777777777777778,
              "#fb9f3a"
             ],
             [
              0.8888888888888888,
              "#fdca26"
             ],
             [
              1,
              "#f0f921"
             ]
            ],
            "type": "contour"
           }
          ],
          "contourcarpet": [
           {
            "colorbar": {
             "outlinewidth": 0,
             "ticks": ""
            },
            "type": "contourcarpet"
           }
          ],
          "heatmap": [
           {
            "colorbar": {
             "outlinewidth": 0,
             "ticks": ""
            },
            "colorscale": [
             [
              0,
              "#0d0887"
             ],
             [
              0.1111111111111111,
              "#46039f"
             ],
             [
              0.2222222222222222,
              "#7201a8"
             ],
             [
              0.3333333333333333,
              "#9c179e"
             ],
             [
              0.4444444444444444,
              "#bd3786"
             ],
             [
              0.5555555555555556,
              "#d8576b"
             ],
             [
              0.6666666666666666,
              "#ed7953"
             ],
             [
              0.7777777777777778,
              "#fb9f3a"
             ],
             [
              0.8888888888888888,
              "#fdca26"
             ],
             [
              1,
              "#f0f921"
             ]
            ],
            "type": "heatmap"
           }
          ],
          "heatmapgl": [
           {
            "colorbar": {
             "outlinewidth": 0,
             "ticks": ""
            },
            "colorscale": [
             [
              0,
              "#0d0887"
             ],
             [
              0.1111111111111111,
              "#46039f"
             ],
             [
              0.2222222222222222,
              "#7201a8"
             ],
             [
              0.3333333333333333,
              "#9c179e"
             ],
             [
              0.4444444444444444,
              "#bd3786"
             ],
             [
              0.5555555555555556,
              "#d8576b"
             ],
             [
              0.6666666666666666,
              "#ed7953"
             ],
             [
              0.7777777777777778,
              "#fb9f3a"
             ],
             [
              0.8888888888888888,
              "#fdca26"
             ],
             [
              1,
              "#f0f921"
             ]
            ],
            "type": "heatmapgl"
           }
          ],
          "histogram": [
           {
            "marker": {
             "pattern": {
              "fillmode": "overlay",
              "size": 10,
              "solidity": 0.2
             }
            },
            "type": "histogram"
           }
          ],
          "histogram2d": [
           {
            "colorbar": {
             "outlinewidth": 0,
             "ticks": ""
            },
            "colorscale": [
             [
              0,
              "#0d0887"
             ],
             [
              0.1111111111111111,
              "#46039f"
             ],
             [
              0.2222222222222222,
              "#7201a8"
             ],
             [
              0.3333333333333333,
              "#9c179e"
             ],
             [
              0.4444444444444444,
              "#bd3786"
             ],
             [
              0.5555555555555556,
              "#d8576b"
             ],
             [
              0.6666666666666666,
              "#ed7953"
             ],
             [
              0.7777777777777778,
              "#fb9f3a"
             ],
             [
              0.8888888888888888,
              "#fdca26"
             ],
             [
              1,
              "#f0f921"
             ]
            ],
            "type": "histogram2d"
           }
          ],
          "histogram2dcontour": [
           {
            "colorbar": {
             "outlinewidth": 0,
             "ticks": ""
            },
            "colorscale": [
             [
              0,
              "#0d0887"
             ],
             [
              0.1111111111111111,
              "#46039f"
             ],
             [
              0.2222222222222222,
              "#7201a8"
             ],
             [
              0.3333333333333333,
              "#9c179e"
             ],
             [
              0.4444444444444444,
              "#bd3786"
             ],
             [
              0.5555555555555556,
              "#d8576b"
             ],
             [
              0.6666666666666666,
              "#ed7953"
             ],
             [
              0.7777777777777778,
              "#fb9f3a"
             ],
             [
              0.8888888888888888,
              "#fdca26"
             ],
             [
              1,
              "#f0f921"
             ]
            ],
            "type": "histogram2dcontour"
           }
          ],
          "mesh3d": [
           {
            "colorbar": {
             "outlinewidth": 0,
             "ticks": ""
            },
            "type": "mesh3d"
           }
          ],
          "parcoords": [
           {
            "line": {
             "colorbar": {
              "outlinewidth": 0,
              "ticks": ""
             }
            },
            "type": "parcoords"
           }
          ],
          "pie": [
           {
            "automargin": true,
            "type": "pie"
           }
          ],
          "scatter": [
           {
            "fillpattern": {
             "fillmode": "overlay",
             "size": 10,
             "solidity": 0.2
            },
            "type": "scatter"
           }
          ],
          "scatter3d": [
           {
            "line": {
             "colorbar": {
              "outlinewidth": 0,
              "ticks": ""
             }
            },
            "marker": {
             "colorbar": {
              "outlinewidth": 0,
              "ticks": ""
             }
            },
            "type": "scatter3d"
           }
          ],
          "scattercarpet": [
           {
            "marker": {
             "colorbar": {
              "outlinewidth": 0,
              "ticks": ""
             }
            },
            "type": "scattercarpet"
           }
          ],
          "scattergeo": [
           {
            "marker": {
             "colorbar": {
              "outlinewidth": 0,
              "ticks": ""
             }
            },
            "type": "scattergeo"
           }
          ],
          "scattergl": [
           {
            "marker": {
             "colorbar": {
              "outlinewidth": 0,
              "ticks": ""
             }
            },
            "type": "scattergl"
           }
          ],
          "scattermapbox": [
           {
            "marker": {
             "colorbar": {
              "outlinewidth": 0,
              "ticks": ""
             }
            },
            "type": "scattermapbox"
           }
          ],
          "scatterpolar": [
           {
            "marker": {
             "colorbar": {
              "outlinewidth": 0,
              "ticks": ""
             }
            },
            "type": "scatterpolar"
           }
          ],
          "scatterpolargl": [
           {
            "marker": {
             "colorbar": {
              "outlinewidth": 0,
              "ticks": ""
             }
            },
            "type": "scatterpolargl"
           }
          ],
          "scatterternary": [
           {
            "marker": {
             "colorbar": {
              "outlinewidth": 0,
              "ticks": ""
             }
            },
            "type": "scatterternary"
           }
          ],
          "surface": [
           {
            "colorbar": {
             "outlinewidth": 0,
             "ticks": ""
            },
            "colorscale": [
             [
              0,
              "#0d0887"
             ],
             [
              0.1111111111111111,
              "#46039f"
             ],
             [
              0.2222222222222222,
              "#7201a8"
             ],
             [
              0.3333333333333333,
              "#9c179e"
             ],
             [
              0.4444444444444444,
              "#bd3786"
             ],
             [
              0.5555555555555556,
              "#d8576b"
             ],
             [
              0.6666666666666666,
              "#ed7953"
             ],
             [
              0.7777777777777778,
              "#fb9f3a"
             ],
             [
              0.8888888888888888,
              "#fdca26"
             ],
             [
              1,
              "#f0f921"
             ]
            ],
            "type": "surface"
           }
          ],
          "table": [
           {
            "cells": {
             "fill": {
              "color": "#EBF0F8"
             },
             "line": {
              "color": "white"
             }
            },
            "header": {
             "fill": {
              "color": "#C8D4E3"
             },
             "line": {
              "color": "white"
             }
            },
            "type": "table"
           }
          ]
         },
         "layout": {
          "annotationdefaults": {
           "arrowcolor": "#2a3f5f",
           "arrowhead": 0,
           "arrowwidth": 1
          },
          "autotypenumbers": "strict",
          "coloraxis": {
           "colorbar": {
            "outlinewidth": 0,
            "ticks": ""
           }
          },
          "colorscale": {
           "diverging": [
            [
             0,
             "#8e0152"
            ],
            [
             0.1,
             "#c51b7d"
            ],
            [
             0.2,
             "#de77ae"
            ],
            [
             0.3,
             "#f1b6da"
            ],
            [
             0.4,
             "#fde0ef"
            ],
            [
             0.5,
             "#f7f7f7"
            ],
            [
             0.6,
             "#e6f5d0"
            ],
            [
             0.7,
             "#b8e186"
            ],
            [
             0.8,
             "#7fbc41"
            ],
            [
             0.9,
             "#4d9221"
            ],
            [
             1,
             "#276419"
            ]
           ],
           "sequential": [
            [
             0,
             "#0d0887"
            ],
            [
             0.1111111111111111,
             "#46039f"
            ],
            [
             0.2222222222222222,
             "#7201a8"
            ],
            [
             0.3333333333333333,
             "#9c179e"
            ],
            [
             0.4444444444444444,
             "#bd3786"
            ],
            [
             0.5555555555555556,
             "#d8576b"
            ],
            [
             0.6666666666666666,
             "#ed7953"
            ],
            [
             0.7777777777777778,
             "#fb9f3a"
            ],
            [
             0.8888888888888888,
             "#fdca26"
            ],
            [
             1,
             "#f0f921"
            ]
           ],
           "sequentialminus": [
            [
             0,
             "#0d0887"
            ],
            [
             0.1111111111111111,
             "#46039f"
            ],
            [
             0.2222222222222222,
             "#7201a8"
            ],
            [
             0.3333333333333333,
             "#9c179e"
            ],
            [
             0.4444444444444444,
             "#bd3786"
            ],
            [
             0.5555555555555556,
             "#d8576b"
            ],
            [
             0.6666666666666666,
             "#ed7953"
            ],
            [
             0.7777777777777778,
             "#fb9f3a"
            ],
            [
             0.8888888888888888,
             "#fdca26"
            ],
            [
             1,
             "#f0f921"
            ]
           ]
          },
          "colorway": [
           "#636efa",
           "#EF553B",
           "#00cc96",
           "#ab63fa",
           "#FFA15A",
           "#19d3f3",
           "#FF6692",
           "#B6E880",
           "#FF97FF",
           "#FECB52"
          ],
          "font": {
           "color": "#2a3f5f"
          },
          "geo": {
           "bgcolor": "white",
           "lakecolor": "white",
           "landcolor": "#E5ECF6",
           "showlakes": true,
           "showland": true,
           "subunitcolor": "white"
          },
          "hoverlabel": {
           "align": "left"
          },
          "hovermode": "closest",
          "mapbox": {
           "style": "light"
          },
          "paper_bgcolor": "white",
          "plot_bgcolor": "#E5ECF6",
          "polar": {
           "angularaxis": {
            "gridcolor": "white",
            "linecolor": "white",
            "ticks": ""
           },
           "bgcolor": "#E5ECF6",
           "radialaxis": {
            "gridcolor": "white",
            "linecolor": "white",
            "ticks": ""
           }
          },
          "scene": {
           "xaxis": {
            "backgroundcolor": "#E5ECF6",
            "gridcolor": "white",
            "gridwidth": 2,
            "linecolor": "white",
            "showbackground": true,
            "ticks": "",
            "zerolinecolor": "white"
           },
           "yaxis": {
            "backgroundcolor": "#E5ECF6",
            "gridcolor": "white",
            "gridwidth": 2,
            "linecolor": "white",
            "showbackground": true,
            "ticks": "",
            "zerolinecolor": "white"
           },
           "zaxis": {
            "backgroundcolor": "#E5ECF6",
            "gridcolor": "white",
            "gridwidth": 2,
            "linecolor": "white",
            "showbackground": true,
            "ticks": "",
            "zerolinecolor": "white"
           }
          },
          "shapedefaults": {
           "line": {
            "color": "#2a3f5f"
           }
          },
          "ternary": {
           "aaxis": {
            "gridcolor": "white",
            "linecolor": "white",
            "ticks": ""
           },
           "baxis": {
            "gridcolor": "white",
            "linecolor": "white",
            "ticks": ""
           },
           "bgcolor": "#E5ECF6",
           "caxis": {
            "gridcolor": "white",
            "linecolor": "white",
            "ticks": ""
           }
          },
          "title": {
           "x": 0.05
          },
          "xaxis": {
           "automargin": true,
           "gridcolor": "white",
           "linecolor": "white",
           "ticks": "",
           "title": {
            "standoff": 15
           },
           "zerolinecolor": "white",
           "zerolinewidth": 2
          },
          "yaxis": {
           "automargin": true,
           "gridcolor": "white",
           "linecolor": "white",
           "ticks": "",
           "title": {
            "standoff": 15
           },
           "zerolinecolor": "white",
           "zerolinewidth": 2
          }
         }
        },
        "title": {
         "font": {
          "color": "black",
          "size": 20
         },
         "text": "Cantidad de vehículos vendidos por provincia (Nuevos vs Usados)",
         "x": 0.5
        },
        "xaxis": {
         "anchor": "y",
         "domain": [
          0,
          1
         ],
         "showgrid": false,
         "showline": false,
         "tickangle": 0,
         "title": {
          "font": {
           "color": "black"
          },
          "text": "Provincia"
         },
         "zeroline": false
        },
        "yaxis": {
         "anchor": "x",
         "domain": [
          0,
          1
         ],
         "showgrid": false,
         "showline": false,
         "title": {
          "font": {
           "color": "black"
          },
          "text": "Cantidad de Vehículos Vendidos"
         },
         "zeroline": false
        }
       }
      }
     },
     "metadata": {},
     "output_type": "display_data"
    }
   ],
   "source": [
    "import pandas as pd\n",
    "import plotly.express as px\n",
    "\n",
    "# Agrupar por provincia y tipo de vehículo\n",
    "df_ventas = df.groupby(['Provincia', 'Vehiculo_Nuevo']).size().reset_index(name='Cantidad_Vendida')\n",
    "\n",
    "# Renombrar los valores de Vehiculo_Nuevo\n",
    "df_ventas[\"Vehiculo_Nuevo\"] = df_ventas[\"Vehiculo_Nuevo\"].map({\"SI\": \"Nuevo\", \"No\": \"Usado\"})\n",
    "\n",
    "# Calcular totales por provincia (como hacías con value_counts())\n",
    "totales = df_ventas.groupby(\"Provincia\")[\"Cantidad_Vendida\"].sum().sort_values(ascending=False).reset_index()\n",
    "\n",
    "# Extraer el orden correcto\n",
    "orden_provincias = totales[\"Provincia\"].tolist()\n",
    "\n",
    "# Asignar orden categórico a la columna Provincia\n",
    "df_ventas[\"Provincia\"] = pd.Categorical(df_ventas[\"Provincia\"], categories=orden_provincias, ordered=True)\n",
    "\n",
    "# Reordenar el DataFrame para asegurar el orden correcto en la visualización\n",
    "df_ventas = df_ventas.sort_values(\"Provincia\")\n",
    "\n",
    "# Definir colores\n",
    "colores = {\"Nuevo\": \"BLUE\", \"Usado\": \"RED\"}\n",
    "\n",
    "# Crear gráfico\n",
    "fig = px.bar(\n",
    "    df_ventas,\n",
    "    x=\"Provincia\",\n",
    "    y=\"Cantidad_Vendida\",\n",
    "    color=\"Vehiculo_Nuevo\",\n",
    "    color_discrete_map=colores,\n",
    "    title=\"Cantidad de vehículos vendidos por provincia (Nuevos vs Usados)\",\n",
    "    labels={\n",
    "        \"Cantidad_Vendida\": \"Cantidad de Vehículos Vendidos\",\n",
    "        \"Provincia\": \"Provincia\",\n",
    "        \"Vehiculo_Nuevo\": \"Tipo de Vehículo\"\n",
    "    },\n",
    ")\n",
    "\n",
    "# Ajustes estéticos\n",
    "fig.update_layout(\n",
    "    title_font_size=20,\n",
    "    title_font_color='black',\n",
    "    title_x=0.5,\n",
    "    xaxis_tickangle=0,\n",
    "    xaxis_title_font=dict(color='black'),\n",
    "    yaxis_title_font=dict(color='black'),\n",
    "    legend_title_font=dict(color='black', size=14),\n",
    "    legend_font=dict(color='black', size=12),\n",
    "    font_color='black',\n",
    "    plot_bgcolor=\"white\",\n",
    "    barmode=\"group\"\n",
    ")\n",
    "\n",
    "# Eliminar líneas de ejes\n",
    "fig.update_xaxes(showline=False, showgrid=False, zeroline=False)\n",
    "fig.update_yaxes(showline=False, showgrid=False, zeroline=False)\n",
    "\n",
    "# Mostrar gráfico\n",
    "fig.show()\n"
   ]
  },
  {
   "cell_type": "markdown",
   "id": "a0fef3e0",
   "metadata": {},
   "source": [
    "![Gráfico de vehículos](CantidadDeVehiculosVendidosPorProvincia.jpg)"
   ]
  },
  {
   "cell_type": "markdown",
   "id": "7810f9e1",
   "metadata": {},
   "source": [
    "3.2.1.2. Desarrollo cuantitativo"
   ]
  },
  {
   "cell_type": "code",
   "execution_count": 26,
   "id": "ba8d91ff",
   "metadata": {},
   "outputs": [
    {
     "name": "stdout",
     "output_type": "stream",
     "text": [
      "🔴 Top 3 provincias con más ventas de vehículos Usados:\n",
      "      Provincia  Cantidad_Vendida Porcentaje\n",
      "1  Buenos Aires               585    41.37 %\n",
      "2      Santa Fe               387    27.37 %\n",
      "3       Cordoba               166    11.74 %\n",
      "\n",
      "🔵 Top 3 provincias con más ventas de vehículos Nuevos:\n",
      "      Provincia  Cantidad_Vendida Porcentaje\n",
      "1  Buenos Aires               216    36.86 %\n",
      "2      Santa Fe               181    30.89 %\n",
      "3       Cordoba                53     9.04 %\n"
     ]
    }
   ],
   "source": [
    "# Top 3 ventas de vehículos USADOS\n",
    "total_usados = df_ventas[df_ventas[\"Vehiculo_Nuevo\"] == \"Usado\"][\"Cantidad_Vendida\"].sum()\n",
    "\n",
    "top_usados = (\n",
    "    df_ventas[df_ventas[\"Vehiculo_Nuevo\"] == \"Usado\"]\n",
    "    .sort_values(\"Cantidad_Vendida\", ascending=False)\n",
    "    .head(3)\n",
    "    .reset_index(drop=True)\n",
    ")\n",
    "\n",
    "top_usados.index += 1  # Que arranque desde 1\n",
    "top_usados[\"Porcentaje\"] = ((top_usados[\"Cantidad_Vendida\"] / total_usados) * 100).round(2).astype(str) + \" %\"\n",
    "\n",
    "print(\"🔴 Top 3 provincias con más ventas de vehículos Usados:\")\n",
    "print(top_usados[[\"Provincia\", \"Cantidad_Vendida\", \"Porcentaje\"]])\n",
    "\n",
    "\n",
    "# Top 3 ventas de vehículos NUEVOS\n",
    "total_nuevos = df_ventas[df_ventas[\"Vehiculo_Nuevo\"] == \"Nuevo\"][\"Cantidad_Vendida\"].sum()\n",
    "\n",
    "top_nuevos = (\n",
    "    df_ventas[df_ventas[\"Vehiculo_Nuevo\"] == \"Nuevo\"]\n",
    "    .sort_values(\"Cantidad_Vendida\", ascending=False)\n",
    "    .head(3)\n",
    "    .reset_index(drop=True)\n",
    ")\n",
    "\n",
    "top_nuevos.index += 1  # Que arranque desde 1\n",
    "top_nuevos[\"Porcentaje\"] = ((top_nuevos[\"Cantidad_Vendida\"] / total_nuevos) * 100).round(2).astype(str) + \" %\"\n",
    "\n",
    "print(\"\\n🔵 Top 3 provincias con más ventas de vehículos Nuevos:\")\n",
    "print(top_nuevos[[\"Provincia\", \"Cantidad_Vendida\", \"Porcentaje\"]])\n"
   ]
  },
  {
   "cell_type": "markdown",
   "id": "6d6cb19b",
   "metadata": {},
   "source": [
    "3.2.1.3. Desarrollo Conclusion"
   ]
  },
  {
   "cell_type": "markdown",
   "id": "7780c4f1",
   "metadata": {},
   "source": [
    "El análisis de las ventas de vehículos en las distintas provincias muestra que:\n",
    "\n",
    "Vehículos Usados:\n",
    "\n",
    "-Buenos Aires lidera ampliamente el mercado de vehículos usados, con 585 unidades vendidas, lo que representa un 41.37% del total nacional de este tipo de vehículo. Le sigue Santa Fe, con 387 unidades, equivalente al 27.37%; y Córdoba ocupa el tercer lugar con 166 unidades, lo que representa un 11.74%.\n",
    "    \n",
    "-Esto indica que Buenos Aires concentra por sí sola más del 40% de las ventas de usados, mostrando una fuerte preferencia por el mercado de segunda mano en esa provincia.\n",
    "\n",
    "Vehículos Nuevos:\n",
    "\n",
    "-También en el mercado de vehículos nuevos, Buenos Aires encabeza las ventas con 216 unidades, representando un 36.86% del total. En segundo lugar se encuentra Santa Fe con 181 unidades (30.89%); seguida por Córdoba, con 53 unidades (9.04%).\n",
    "    \n",
    "-Aunque Buenos Aires sigue liderando, la diferencia con Santa Fe es menos marcada en el caso de vehículos nuevos, lo que sugiere una distribución algo más equilibrada entre ambas provincias para este segmento."
   ]
  },
  {
   "cell_type": "markdown",
   "id": "5aa633b9",
   "metadata": {},
   "source": [
    "3.2.2. ¿Qué marcas dominan los ingresos en vehículos nuevos vs usados?"
   ]
  },
  {
   "cell_type": "markdown",
   "id": "345b0faf",
   "metadata": {},
   "source": [
    "3.2.2.1. Desarrollo Grafico"
   ]
  },
  {
   "cell_type": "code",
   "execution_count": 27,
   "id": "d61e441a",
   "metadata": {},
   "outputs": [
    {
     "data": {
      "application/vnd.plotly.v1+json": {
       "config": {
        "plotlyServerURL": "https://plot.ly"
       },
       "data": [
        {
         "hovertemplate": "Marca=Chevrolet<br>Trimestre=%{x}<br>Ingresos=%{y}<extra></extra>",
         "legendgroup": "Chevrolet",
         "line": {
          "color": "#636efa",
          "dash": "solid"
         },
         "marker": {
          "symbol": "circle"
         },
         "mode": "lines+markers",
         "name": "Chevrolet",
         "orientation": "v",
         "showlegend": true,
         "type": "scatter",
         "x": [
          "2022Q1",
          "2022Q2",
          "2022Q3",
          "2022Q4",
          "2023Q1",
          "2023Q2",
          "2023Q3",
          "2023Q4"
         ],
         "xaxis": "x",
         "y": [
          1875674.3153290001,
          1477532.820204,
          1720491.607157,
          1407101.616164,
          1960387.48127,
          1730313.117348,
          1943156.6946689999,
          2057667.46619
         ],
         "yaxis": "y"
        },
        {
         "hovertemplate": "Marca=Fiat<br>Trimestre=%{x}<br>Ingresos=%{y}<extra></extra>",
         "legendgroup": "Fiat",
         "line": {
          "color": "#EF553B",
          "dash": "solid"
         },
         "marker": {
          "symbol": "circle"
         },
         "mode": "lines+markers",
         "name": "Fiat",
         "orientation": "v",
         "showlegend": true,
         "type": "scatter",
         "x": [
          "2022Q1",
          "2022Q2",
          "2022Q3",
          "2022Q4",
          "2023Q1",
          "2023Q2",
          "2023Q3",
          "2023Q4"
         ],
         "xaxis": "x",
         "y": [
          1574922.57218,
          1487196.590611,
          1719757.5456980001,
          2034438.269004,
          1441996.849253,
          1629867.16435,
          1361939.756234,
          1548017.641854
         ],
         "yaxis": "y"
        },
        {
         "hovertemplate": "Marca=Ford<br>Trimestre=%{x}<br>Ingresos=%{y}<extra></extra>",
         "legendgroup": "Ford",
         "line": {
          "color": "#00cc96",
          "dash": "solid"
         },
         "marker": {
          "symbol": "circle"
         },
         "mode": "lines+markers",
         "name": "Ford",
         "orientation": "v",
         "showlegend": true,
         "type": "scatter",
         "x": [
          "2022Q1",
          "2022Q2",
          "2022Q3",
          "2022Q4",
          "2023Q1",
          "2023Q2",
          "2023Q3",
          "2023Q4"
         ],
         "xaxis": "x",
         "y": [
          1757560.57727,
          1112687.31518,
          2004996.716179,
          1326249.610887,
          1824180.92846,
          1912742.794736,
          2017774.4050699999,
          1654174.587892
         ],
         "yaxis": "y"
        },
        {
         "hovertemplate": "Marca=Mercedes-Benz<br>Trimestre=%{x}<br>Ingresos=%{y}<extra></extra>",
         "legendgroup": "Mercedes-Benz",
         "line": {
          "color": "#ab63fa",
          "dash": "solid"
         },
         "marker": {
          "symbol": "circle"
         },
         "mode": "lines+markers",
         "name": "Mercedes-Benz",
         "orientation": "v",
         "showlegend": true,
         "type": "scatter",
         "x": [
          "2022Q1",
          "2022Q2",
          "2022Q3",
          "2022Q4",
          "2023Q1",
          "2023Q2",
          "2023Q3",
          "2023Q4"
         ],
         "xaxis": "x",
         "y": [
          2140639.079066,
          1232357.67305,
          1370555.511312,
          1265227.740421,
          1664575.890032,
          2080994.08573,
          2427039.6015,
          1666410.46674
         ],
         "yaxis": "y"
        },
        {
         "hovertemplate": "Marca=Nissan<br>Trimestre=%{x}<br>Ingresos=%{y}<extra></extra>",
         "legendgroup": "Nissan",
         "line": {
          "color": "#FFA15A",
          "dash": "solid"
         },
         "marker": {
          "symbol": "circle"
         },
         "mode": "lines+markers",
         "name": "Nissan",
         "orientation": "v",
         "showlegend": true,
         "type": "scatter",
         "x": [
          "2022Q1",
          "2022Q2",
          "2022Q3",
          "2022Q4",
          "2023Q1",
          "2023Q2",
          "2023Q3",
          "2023Q4"
         ],
         "xaxis": "x",
         "y": [
          1350785.295874,
          1743935.886238,
          1674924.531699,
          1511478.428366,
          1424029.58384,
          1597070.405356,
          966181.153892,
          1994896.761092
         ],
         "yaxis": "y"
        },
        {
         "hovertemplate": "Marca=Renault<br>Trimestre=%{x}<br>Ingresos=%{y}<extra></extra>",
         "legendgroup": "Renault",
         "line": {
          "color": "#19d3f3",
          "dash": "solid"
         },
         "marker": {
          "symbol": "circle"
         },
         "mode": "lines+markers",
         "name": "Renault",
         "orientation": "v",
         "showlegend": true,
         "type": "scatter",
         "x": [
          "2022Q1",
          "2022Q2",
          "2022Q3",
          "2022Q4",
          "2023Q1",
          "2023Q2",
          "2023Q3",
          "2023Q4"
         ],
         "xaxis": "x",
         "y": [
          1782275.20673,
          1652100.81139,
          958608.29772,
          1580286.697444,
          1770334.551296,
          1689978.142276,
          1517438.271799,
          1717614.27123
         ],
         "yaxis": "y"
        },
        {
         "hovertemplate": "Marca=Toyota<br>Trimestre=%{x}<br>Ingresos=%{y}<extra></extra>",
         "legendgroup": "Toyota",
         "line": {
          "color": "#FF6692",
          "dash": "solid"
         },
         "marker": {
          "symbol": "circle"
         },
         "mode": "lines+markers",
         "name": "Toyota",
         "orientation": "v",
         "showlegend": true,
         "type": "scatter",
         "x": [
          "2022Q1",
          "2022Q2",
          "2022Q3",
          "2022Q4",
          "2023Q1",
          "2023Q2",
          "2023Q3",
          "2023Q4"
         ],
         "xaxis": "x",
         "y": [
          1849774.148312,
          2087697.7039329999,
          1759862.825288,
          1367889.50269,
          1897830.386204,
          1774448.115423,
          1203522.357642,
          2120810.972496
         ],
         "yaxis": "y"
        },
        {
         "hovertemplate": "Marca=Volkswagen<br>Trimestre=%{x}<br>Ingresos=%{y}<extra></extra>",
         "legendgroup": "Volkswagen",
         "line": {
          "color": "#B6E880",
          "dash": "solid"
         },
         "marker": {
          "symbol": "circle"
         },
         "mode": "lines+markers",
         "name": "Volkswagen",
         "orientation": "v",
         "showlegend": true,
         "type": "scatter",
         "x": [
          "2022Q1",
          "2022Q2",
          "2022Q3",
          "2022Q4",
          "2023Q1",
          "2023Q2",
          "2023Q3",
          "2023Q4"
         ],
         "xaxis": "x",
         "y": [
          2076018.53113,
          2062267.75062,
          1756952.144423,
          1492504.871678,
          1924053.83028,
          1702252.10454,
          1327742.939391,
          1382693.308454
         ],
         "yaxis": "y"
        }
       ],
       "layout": {
        "font": {
         "color": "black"
        },
        "legend": {
         "title": {
          "text": "Marca"
         },
         "tracegroupgap": 0
        },
        "paper_bgcolor": "white",
        "plot_bgcolor": "white",
        "template": {
         "data": {
          "bar": [
           {
            "error_x": {
             "color": "#2a3f5f"
            },
            "error_y": {
             "color": "#2a3f5f"
            },
            "marker": {
             "line": {
              "color": "#E5ECF6",
              "width": 0.5
             },
             "pattern": {
              "fillmode": "overlay",
              "size": 10,
              "solidity": 0.2
             }
            },
            "type": "bar"
           }
          ],
          "barpolar": [
           {
            "marker": {
             "line": {
              "color": "#E5ECF6",
              "width": 0.5
             },
             "pattern": {
              "fillmode": "overlay",
              "size": 10,
              "solidity": 0.2
             }
            },
            "type": "barpolar"
           }
          ],
          "carpet": [
           {
            "aaxis": {
             "endlinecolor": "#2a3f5f",
             "gridcolor": "white",
             "linecolor": "white",
             "minorgridcolor": "white",
             "startlinecolor": "#2a3f5f"
            },
            "baxis": {
             "endlinecolor": "#2a3f5f",
             "gridcolor": "white",
             "linecolor": "white",
             "minorgridcolor": "white",
             "startlinecolor": "#2a3f5f"
            },
            "type": "carpet"
           }
          ],
          "choropleth": [
           {
            "colorbar": {
             "outlinewidth": 0,
             "ticks": ""
            },
            "type": "choropleth"
           }
          ],
          "contour": [
           {
            "colorbar": {
             "outlinewidth": 0,
             "ticks": ""
            },
            "colorscale": [
             [
              0,
              "#0d0887"
             ],
             [
              0.1111111111111111,
              "#46039f"
             ],
             [
              0.2222222222222222,
              "#7201a8"
             ],
             [
              0.3333333333333333,
              "#9c179e"
             ],
             [
              0.4444444444444444,
              "#bd3786"
             ],
             [
              0.5555555555555556,
              "#d8576b"
             ],
             [
              0.6666666666666666,
              "#ed7953"
             ],
             [
              0.7777777777777778,
              "#fb9f3a"
             ],
             [
              0.8888888888888888,
              "#fdca26"
             ],
             [
              1,
              "#f0f921"
             ]
            ],
            "type": "contour"
           }
          ],
          "contourcarpet": [
           {
            "colorbar": {
             "outlinewidth": 0,
             "ticks": ""
            },
            "type": "contourcarpet"
           }
          ],
          "heatmap": [
           {
            "colorbar": {
             "outlinewidth": 0,
             "ticks": ""
            },
            "colorscale": [
             [
              0,
              "#0d0887"
             ],
             [
              0.1111111111111111,
              "#46039f"
             ],
             [
              0.2222222222222222,
              "#7201a8"
             ],
             [
              0.3333333333333333,
              "#9c179e"
             ],
             [
              0.4444444444444444,
              "#bd3786"
             ],
             [
              0.5555555555555556,
              "#d8576b"
             ],
             [
              0.6666666666666666,
              "#ed7953"
             ],
             [
              0.7777777777777778,
              "#fb9f3a"
             ],
             [
              0.8888888888888888,
              "#fdca26"
             ],
             [
              1,
              "#f0f921"
             ]
            ],
            "type": "heatmap"
           }
          ],
          "heatmapgl": [
           {
            "colorbar": {
             "outlinewidth": 0,
             "ticks": ""
            },
            "colorscale": [
             [
              0,
              "#0d0887"
             ],
             [
              0.1111111111111111,
              "#46039f"
             ],
             [
              0.2222222222222222,
              "#7201a8"
             ],
             [
              0.3333333333333333,
              "#9c179e"
             ],
             [
              0.4444444444444444,
              "#bd3786"
             ],
             [
              0.5555555555555556,
              "#d8576b"
             ],
             [
              0.6666666666666666,
              "#ed7953"
             ],
             [
              0.7777777777777778,
              "#fb9f3a"
             ],
             [
              0.8888888888888888,
              "#fdca26"
             ],
             [
              1,
              "#f0f921"
             ]
            ],
            "type": "heatmapgl"
           }
          ],
          "histogram": [
           {
            "marker": {
             "pattern": {
              "fillmode": "overlay",
              "size": 10,
              "solidity": 0.2
             }
            },
            "type": "histogram"
           }
          ],
          "histogram2d": [
           {
            "colorbar": {
             "outlinewidth": 0,
             "ticks": ""
            },
            "colorscale": [
             [
              0,
              "#0d0887"
             ],
             [
              0.1111111111111111,
              "#46039f"
             ],
             [
              0.2222222222222222,
              "#7201a8"
             ],
             [
              0.3333333333333333,
              "#9c179e"
             ],
             [
              0.4444444444444444,
              "#bd3786"
             ],
             [
              0.5555555555555556,
              "#d8576b"
             ],
             [
              0.6666666666666666,
              "#ed7953"
             ],
             [
              0.7777777777777778,
              "#fb9f3a"
             ],
             [
              0.8888888888888888,
              "#fdca26"
             ],
             [
              1,
              "#f0f921"
             ]
            ],
            "type": "histogram2d"
           }
          ],
          "histogram2dcontour": [
           {
            "colorbar": {
             "outlinewidth": 0,
             "ticks": ""
            },
            "colorscale": [
             [
              0,
              "#0d0887"
             ],
             [
              0.1111111111111111,
              "#46039f"
             ],
             [
              0.2222222222222222,
              "#7201a8"
             ],
             [
              0.3333333333333333,
              "#9c179e"
             ],
             [
              0.4444444444444444,
              "#bd3786"
             ],
             [
              0.5555555555555556,
              "#d8576b"
             ],
             [
              0.6666666666666666,
              "#ed7953"
             ],
             [
              0.7777777777777778,
              "#fb9f3a"
             ],
             [
              0.8888888888888888,
              "#fdca26"
             ],
             [
              1,
              "#f0f921"
             ]
            ],
            "type": "histogram2dcontour"
           }
          ],
          "mesh3d": [
           {
            "colorbar": {
             "outlinewidth": 0,
             "ticks": ""
            },
            "type": "mesh3d"
           }
          ],
          "parcoords": [
           {
            "line": {
             "colorbar": {
              "outlinewidth": 0,
              "ticks": ""
             }
            },
            "type": "parcoords"
           }
          ],
          "pie": [
           {
            "automargin": true,
            "type": "pie"
           }
          ],
          "scatter": [
           {
            "fillpattern": {
             "fillmode": "overlay",
             "size": 10,
             "solidity": 0.2
            },
            "type": "scatter"
           }
          ],
          "scatter3d": [
           {
            "line": {
             "colorbar": {
              "outlinewidth": 0,
              "ticks": ""
             }
            },
            "marker": {
             "colorbar": {
              "outlinewidth": 0,
              "ticks": ""
             }
            },
            "type": "scatter3d"
           }
          ],
          "scattercarpet": [
           {
            "marker": {
             "colorbar": {
              "outlinewidth": 0,
              "ticks": ""
             }
            },
            "type": "scattercarpet"
           }
          ],
          "scattergeo": [
           {
            "marker": {
             "colorbar": {
              "outlinewidth": 0,
              "ticks": ""
             }
            },
            "type": "scattergeo"
           }
          ],
          "scattergl": [
           {
            "marker": {
             "colorbar": {
              "outlinewidth": 0,
              "ticks": ""
             }
            },
            "type": "scattergl"
           }
          ],
          "scattermapbox": [
           {
            "marker": {
             "colorbar": {
              "outlinewidth": 0,
              "ticks": ""
             }
            },
            "type": "scattermapbox"
           }
          ],
          "scatterpolar": [
           {
            "marker": {
             "colorbar": {
              "outlinewidth": 0,
              "ticks": ""
             }
            },
            "type": "scatterpolar"
           }
          ],
          "scatterpolargl": [
           {
            "marker": {
             "colorbar": {
              "outlinewidth": 0,
              "ticks": ""
             }
            },
            "type": "scatterpolargl"
           }
          ],
          "scatterternary": [
           {
            "marker": {
             "colorbar": {
              "outlinewidth": 0,
              "ticks": ""
             }
            },
            "type": "scatterternary"
           }
          ],
          "surface": [
           {
            "colorbar": {
             "outlinewidth": 0,
             "ticks": ""
            },
            "colorscale": [
             [
              0,
              "#0d0887"
             ],
             [
              0.1111111111111111,
              "#46039f"
             ],
             [
              0.2222222222222222,
              "#7201a8"
             ],
             [
              0.3333333333333333,
              "#9c179e"
             ],
             [
              0.4444444444444444,
              "#bd3786"
             ],
             [
              0.5555555555555556,
              "#d8576b"
             ],
             [
              0.6666666666666666,
              "#ed7953"
             ],
             [
              0.7777777777777778,
              "#fb9f3a"
             ],
             [
              0.8888888888888888,
              "#fdca26"
             ],
             [
              1,
              "#f0f921"
             ]
            ],
            "type": "surface"
           }
          ],
          "table": [
           {
            "cells": {
             "fill": {
              "color": "#EBF0F8"
             },
             "line": {
              "color": "white"
             }
            },
            "header": {
             "fill": {
              "color": "#C8D4E3"
             },
             "line": {
              "color": "white"
             }
            },
            "type": "table"
           }
          ]
         },
         "layout": {
          "annotationdefaults": {
           "arrowcolor": "#2a3f5f",
           "arrowhead": 0,
           "arrowwidth": 1
          },
          "autotypenumbers": "strict",
          "coloraxis": {
           "colorbar": {
            "outlinewidth": 0,
            "ticks": ""
           }
          },
          "colorscale": {
           "diverging": [
            [
             0,
             "#8e0152"
            ],
            [
             0.1,
             "#c51b7d"
            ],
            [
             0.2,
             "#de77ae"
            ],
            [
             0.3,
             "#f1b6da"
            ],
            [
             0.4,
             "#fde0ef"
            ],
            [
             0.5,
             "#f7f7f7"
            ],
            [
             0.6,
             "#e6f5d0"
            ],
            [
             0.7,
             "#b8e186"
            ],
            [
             0.8,
             "#7fbc41"
            ],
            [
             0.9,
             "#4d9221"
            ],
            [
             1,
             "#276419"
            ]
           ],
           "sequential": [
            [
             0,
             "#0d0887"
            ],
            [
             0.1111111111111111,
             "#46039f"
            ],
            [
             0.2222222222222222,
             "#7201a8"
            ],
            [
             0.3333333333333333,
             "#9c179e"
            ],
            [
             0.4444444444444444,
             "#bd3786"
            ],
            [
             0.5555555555555556,
             "#d8576b"
            ],
            [
             0.6666666666666666,
             "#ed7953"
            ],
            [
             0.7777777777777778,
             "#fb9f3a"
            ],
            [
             0.8888888888888888,
             "#fdca26"
            ],
            [
             1,
             "#f0f921"
            ]
           ],
           "sequentialminus": [
            [
             0,
             "#0d0887"
            ],
            [
             0.1111111111111111,
             "#46039f"
            ],
            [
             0.2222222222222222,
             "#7201a8"
            ],
            [
             0.3333333333333333,
             "#9c179e"
            ],
            [
             0.4444444444444444,
             "#bd3786"
            ],
            [
             0.5555555555555556,
             "#d8576b"
            ],
            [
             0.6666666666666666,
             "#ed7953"
            ],
            [
             0.7777777777777778,
             "#fb9f3a"
            ],
            [
             0.8888888888888888,
             "#fdca26"
            ],
            [
             1,
             "#f0f921"
            ]
           ]
          },
          "colorway": [
           "#636efa",
           "#EF553B",
           "#00cc96",
           "#ab63fa",
           "#FFA15A",
           "#19d3f3",
           "#FF6692",
           "#B6E880",
           "#FF97FF",
           "#FECB52"
          ],
          "font": {
           "color": "#2a3f5f"
          },
          "geo": {
           "bgcolor": "white",
           "lakecolor": "white",
           "landcolor": "#E5ECF6",
           "showlakes": true,
           "showland": true,
           "subunitcolor": "white"
          },
          "hoverlabel": {
           "align": "left"
          },
          "hovermode": "closest",
          "mapbox": {
           "style": "light"
          },
          "paper_bgcolor": "white",
          "plot_bgcolor": "#E5ECF6",
          "polar": {
           "angularaxis": {
            "gridcolor": "white",
            "linecolor": "white",
            "ticks": ""
           },
           "bgcolor": "#E5ECF6",
           "radialaxis": {
            "gridcolor": "white",
            "linecolor": "white",
            "ticks": ""
           }
          },
          "scene": {
           "xaxis": {
            "backgroundcolor": "#E5ECF6",
            "gridcolor": "white",
            "gridwidth": 2,
            "linecolor": "white",
            "showbackground": true,
            "ticks": "",
            "zerolinecolor": "white"
           },
           "yaxis": {
            "backgroundcolor": "#E5ECF6",
            "gridcolor": "white",
            "gridwidth": 2,
            "linecolor": "white",
            "showbackground": true,
            "ticks": "",
            "zerolinecolor": "white"
           },
           "zaxis": {
            "backgroundcolor": "#E5ECF6",
            "gridcolor": "white",
            "gridwidth": 2,
            "linecolor": "white",
            "showbackground": true,
            "ticks": "",
            "zerolinecolor": "white"
           }
          },
          "shapedefaults": {
           "line": {
            "color": "#2a3f5f"
           }
          },
          "ternary": {
           "aaxis": {
            "gridcolor": "white",
            "linecolor": "white",
            "ticks": ""
           },
           "baxis": {
            "gridcolor": "white",
            "linecolor": "white",
            "ticks": ""
           },
           "bgcolor": "#E5ECF6",
           "caxis": {
            "gridcolor": "white",
            "linecolor": "white",
            "ticks": ""
           }
          },
          "title": {
           "x": 0.05
          },
          "xaxis": {
           "automargin": true,
           "gridcolor": "white",
           "linecolor": "white",
           "ticks": "",
           "title": {
            "standoff": 15
           },
           "zerolinecolor": "white",
           "zerolinewidth": 2
          },
          "yaxis": {
           "automargin": true,
           "gridcolor": "white",
           "linecolor": "white",
           "ticks": "",
           "title": {
            "standoff": 15
           },
           "zerolinecolor": "white",
           "zerolinewidth": 2
          }
         }
        },
        "title": {
         "font": {
          "size": 20
         },
         "text": "Evolución de ingresos por marca (por trimestre)",
         "x": 0.5
        },
        "xaxis": {
         "anchor": "y",
         "domain": [
          0,
          1
         ],
         "title": {
          "text": "Trimestre"
         }
        },
        "yaxis": {
         "anchor": "x",
         "domain": [
          0,
          1
         ],
         "title": {
          "text": "Ingresos en USD"
         }
        }
       }
      }
     },
     "metadata": {},
     "output_type": "display_data"
    }
   ],
   "source": [
    "import pandas as pd\n",
    "import plotly.express as px\n",
    "\n",
    "# Leer archivo\n",
    "df = pd.read_csv('ProyectoVentaVehiculos+Milanesio.csv', delimiter=';')\n",
    "\n",
    "# Asegurar que Fecha_Venta sea datetime\n",
    "df[\"Fecha_Venta\"] = pd.to_datetime(df[\"Fecha_Venta\"], dayfirst=True)\n",
    "\n",
    "# Convertir Precio_USD a float (reemplazar coma por punto)\n",
    "df[\"Precio_USD\"] = df[\"Precio_USD\"].str.replace(\",\", \".\").astype(float)\n",
    "\n",
    "# Crear columna de trimestre\n",
    "df[\"Trimestre\"] = df[\"Fecha_Venta\"].dt.to_period(\"Q\").astype(str)\n",
    "\n",
    "# Agrupar ingresos por Marca y Trimestre\n",
    "df_ingresos = (\n",
    "    df.groupby([\"Trimestre\", \"Marca\"])[\"Precio_USD\"]\n",
    "    .sum()\n",
    "    .reset_index()\n",
    "    .rename(columns={\"Precio_USD\": \"Ingresos\"})\n",
    ")\n",
    "\n",
    "# Crear gráfico de líneas\n",
    "fig = px.line(\n",
    "    df_ingresos,\n",
    "    x=\"Trimestre\",\n",
    "    y=\"Ingresos\",\n",
    "    color=\"Marca\",\n",
    "    title=\"Evolución de ingresos por marca (por trimestre)\",\n",
    "    markers=True\n",
    ")\n",
    "\n",
    "# Ajustes visuales\n",
    "fig.update_layout(\n",
    "    title_font_size=20,\n",
    "    title_x=0.5,\n",
    "    xaxis_title=\"Trimestre\",\n",
    "    yaxis_title=\"Ingresos en USD\",\n",
    "    plot_bgcolor=\"white\",\n",
    "    paper_bgcolor=\"white\",\n",
    "    font_color=\"black\",\n",
    ")\n",
    "\n",
    "fig.show()\n"
   ]
  },
  {
   "cell_type": "markdown",
   "id": "be8b6668",
   "metadata": {},
   "source": [
    "![Gráfico de ingresos](EvolucionDeIngresosPorMarca.jpg)"
   ]
  },
  {
   "cell_type": "code",
   "execution_count": 30,
   "id": "59711a6e",
   "metadata": {},
   "outputs": [
    {
     "name": "stderr",
     "output_type": "stream",
     "text": [
      "[NbConvertApp] Converting notebook ProyectoVentaVehiculos+Milanesio.ipynb to html\n",
      "C:\\Users\\nacho\\anaconda3\\share\\jupyter\\nbconvert\\templates\\base\\display_priority.j2:32: UserWarning: Your element with mimetype(s) dict_keys(['application/vnd.plotly.v1+json']) is not able to be represented.\n",
      "  {%- elif type == 'text/vnd.mermaid' -%}\n",
      "C:\\Users\\nacho\\anaconda3\\share\\jupyter\\nbconvert\\templates\\base\\display_priority.j2:32: UserWarning: Your element with mimetype(s) dict_keys(['application/vnd.plotly.v1+json']) is not able to be represented.\n",
      "  {%- elif type == 'text/vnd.mermaid' -%}\n",
      "[NbConvertApp] WARNING | Alternative text is missing on 1 image(s).\n",
      "[NbConvertApp] Writing 458291 bytes to ProyectoVentaVehiculos+Milanesio.html\n"
     ]
    }
   ],
   "source": [
    "!jupyter nbconvert --to html --embed-images ProyectoVentaVehiculos+Milanesio.ipynb"
   ]
  },
  {
   "cell_type": "markdown",
   "id": "1262923e",
   "metadata": {},
   "source": [
    "3.2.2.2 Desarrollo Cuantitativo"
   ]
  },
  {
   "cell_type": "code",
   "execution_count": 28,
   "id": "13608b0b",
   "metadata": {},
   "outputs": [
    {
     "name": "stdout",
     "output_type": "stream",
     "text": [
      " Ranking de marcas por ingresos totales (en millones de USD):\n",
      "           Marca  Ingresos (M USD)\n",
      "0      Chevrolet             14.17\n",
      "1         Toyota             14.06\n",
      "2  Mercedes-Benz             13.85\n",
      "3     Volkswagen             13.72\n",
      "4           Ford             13.61\n",
      "5           Fiat             12.80\n",
      "6        Renault             12.67\n",
      "7         Nissan             12.26\n",
      "\n",
      " La marca que más ingresos generó fue: Chevrolet\n"
     ]
    }
   ],
   "source": [
    "# Ingresos por marca en millones de USD\n",
    "ingresos_por_marca = (\n",
    "    df.groupby(\"Marca\")[\"Precio_USD\"]\n",
    "    .sum()\n",
    "    .sort_values(ascending=False)\n",
    "    .reset_index()\n",
    ")\n",
    "\n",
    "# Convertir a millones y redondear\n",
    "ingresos_por_marca[\"Ingresos (M USD)\"] = (ingresos_por_marca[\"Precio_USD\"] / 1e6).round(2)\n",
    "\n",
    "# Eliminar columna original si no la necesitas\n",
    "ingresos_por_marca = ingresos_por_marca.drop(columns=\"Precio_USD\")\n",
    "\n",
    "print(\" Ranking de marcas por ingresos totales (en millones de USD):\")\n",
    "print(ingresos_por_marca)\n",
    "\n",
    "# Extraer marca top\n",
    "marca_top = ingresos_por_marca.iloc[0][\"Marca\"]\n",
    "print(f\"\\n La marca que más ingresos generó fue: {marca_top}\")\n",
    "\n"
   ]
  },
  {
   "cell_type": "code",
   "execution_count": 29,
   "id": "caa42c4f",
   "metadata": {},
   "outputs": [
    {
     "name": "stdout",
     "output_type": "stream",
     "text": [
      "\n",
      " Top 3 tipos de vehículos dentro de la marca Chevrolet:\n",
      "  Tipo_Vehiculo  Ingresos (M USD) Porcentaje\n",
      "0          Auto              5.49    38.73 %\n",
      "1     Camioneta              3.80     26.8 %\n",
      "2        Trafic              2.10    14.82 %\n"
     ]
    }
   ],
   "source": [
    "# Filtrar solo datos de la marca top\n",
    "df_top_marca = df[df[\"Marca\"] == marca_top]\n",
    "\n",
    "# Agrupar ingresos por tipo de vehículo\n",
    "ranking_tipo_vehiculo = (\n",
    "    df_top_marca.groupby(\"Tipo_Vehiculo\")[\"Precio_USD\"]\n",
    "    .sum()\n",
    "    .sort_values(ascending=False)\n",
    "    .reset_index()\n",
    ")\n",
    "\n",
    "# Convertir ingresos a millones y renombrar columna\n",
    "ranking_tipo_vehiculo[\"Ingresos (M USD)\"] = (ranking_tipo_vehiculo[\"Precio_USD\"] / 1e6).round(2)\n",
    "\n",
    "# Calcular porcentaje\n",
    "total_ingresos_marca = ranking_tipo_vehiculo[\"Precio_USD\"].sum()\n",
    "ranking_tipo_vehiculo[\"Porcentaje\"] = (\n",
    "    (ranking_tipo_vehiculo[\"Precio_USD\"] / total_ingresos_marca) * 100\n",
    ").round(2).astype(str) + \" %\"\n",
    "\n",
    "# Eliminar columna original\n",
    "ranking_tipo_vehiculo = ranking_tipo_vehiculo.drop(columns=\"Precio_USD\")\n",
    "\n",
    "# Mostrar solo top 3\n",
    "ranking_top3 = ranking_tipo_vehiculo.head(3)\n",
    "\n",
    "# Mostrar resultado\n",
    "print(f\"\\n Top 3 tipos de vehículos dentro de la marca {marca_top}:\")\n",
    "print(ranking_top3)\n",
    "\n"
   ]
  },
  {
   "cell_type": "markdown",
   "id": "21550508",
   "metadata": {},
   "source": [
    "3.2.2.2 Desarrollo Conclusion"
   ]
  },
  {
   "cell_type": "markdown",
   "id": "d30f1358",
   "metadata": {},
   "source": [
    "Conclusión del análisis de ingresos por marca y tipo de vehículo:\n",
    "\n",
    "-Chevrolet lidera el mercado en términos de ingresos por ventas de vehículos, con un total de aproximadamente 14.17 millones de USD. Esto la posiciona como la marca que más ingresos generó, seguida muy de cerca por Toyota y Mercedes-Benz.\n",
    "\n",
    "-Dentro de Chevrolet, el tipo de vehículo que más ingresos aportó fue el Auto, con 5.49 millones de USD, lo que representa casi el 39% de los ingresos totales de la marca.\n",
    "\n",
    "-Le siguen: Camioneta, con 3.80 millones USD (26.8% del total); y Trafic, con 2.10 millones USD (14.82% del total).\n",
    "\n",
    "La estrategia comercial de Chevrolet parece estar fuertemente apalancada en la venta de autos particulares, ya que representan el mayor volumen de ingresos. Las camionetas y vehículos utilitarios como el Trafic también son relevantes, pero con menor impacto en comparación."
   ]
  },
  {
   "cell_type": "markdown",
   "id": "8149ca53",
   "metadata": {},
   "source": [
    "-----------------------------------------------------------------------------------------------------------------------------------------------"
   ]
  },
  {
   "cell_type": "markdown",
   "id": "91869827",
   "metadata": {},
   "source": [
    "----------------------------------------------------------------------------------------------------------------------------------------------------------"
   ]
  },
  {
   "cell_type": "markdown",
   "id": "2014613b",
   "metadata": {},
   "source": [
    "DESARROLLO PARTE 2"
   ]
  },
  {
   "cell_type": "markdown",
   "id": "980511ea",
   "metadata": {},
   "source": [
    "i. Feature selection para reducir la dimensionalidad"
   ]
  },
  {
   "cell_type": "markdown",
   "id": "d3de15dc",
   "metadata": {},
   "source": [
    "- Carga y preprocesamiento del dataset:\n",
    "\n",
    "Se importan librerías necesarias.\n",
    "\n",
    "Se convierte el separador decimal de coma a punto.\n",
    "\n",
    "Se eliminan columnas irrelevantes (ID_Venta, Fecha_Venta) y se convierte Vehiculo_Nuevo a binario.\n",
    "\n",
    "Se realiza one-hot encoding sobre variables categóricas.\n",
    "\n",
    "- Análisis exploratorio:\n",
    "\n",
    "Se genera un countplot de la variable objetivo Vehiculo_Nuevo.\n",
    "\n",
    "Se genera una matriz de correlación entre variables numéricas.\n",
    "\n",
    "- Feature Selection:\n",
    "\n",
    "Se discretizan variables numéricas con KBinsDiscretizer.\n",
    "\n",
    "Se aplica SelectKBest con chi² para obtener las 10 variables más influyentes.\n",
    "\n",
    "Se grafica el ranking de las variables seleccionadas."
   ]
  },
  {
   "cell_type": "code",
   "execution_count": 63,
   "id": "d30a77b5",
   "metadata": {},
   "outputs": [],
   "source": [
    "# Importar librerías necesarias\n",
    "import pandas as pd\n",
    "import numpy as np\n",
    "import matplotlib.pyplot as plt\n",
    "import seaborn as sns\n",
    "from sklearn.feature_selection import SelectKBest, chi2\n",
    "from sklearn.preprocessing import StandardScaler\n",
    "from sklearn.decomposition import PCA\n",
    "from sklearn.model_selection import train_test_split\n",
    "from sklearn.linear_model import LogisticRegression\n",
    "from sklearn.ensemble import RandomForestClassifier\n",
    "from sklearn.metrics import accuracy_score, classification_report, confusion_matrix, ConfusionMatrixDisplay\n",
    "from sklearn.cluster import KMeans\n",
    "from sklearn.metrics import adjusted_rand_score\n",
    "from scipy.stats import mode\n",
    "import warnings\n",
    "warnings.filterwarnings(\"ignore\")"
   ]
  },
  {
   "cell_type": "code",
   "execution_count": null,
   "id": "91c05fd7",
   "metadata": {},
   "outputs": [
    {
     "data": {
      "image/png": "[encoded data removed]",
      "text/plain": [
       "<Figure size 1000x1000 with 2 Axes>"
      ]
     },
     "metadata": {},
     "output_type": "display_data"
    },
    {
     "name": "stderr",
     "output_type": "stream",
     "text": [
      "c:\\Users\\nacho\\anaconda3\\Lib\\site-packages\\sklearn\\preprocessing\\_discretization.py:307: UserWarning: Bins whose width are too small (i.e., <= 1e-8) in feature 0 are removed. Consider decreasing the number of bins.\n",
      "  warnings.warn(\n",
      "c:\\Users\\nacho\\anaconda3\\Lib\\site-packages\\sklearn\\preprocessing\\_discretization.py:307: UserWarning: Bins whose width are too small (i.e., <= 1e-8) in feature 3 are removed. Consider decreasing the number of bins.\n",
      "  warnings.warn(\n"
     ]
    },
    {
     "name": "stdout",
     "output_type": "stream",
     "text": [
      "Top 10 variables seleccionadas por Chi2:\n",
      "                      Feature   Chi2_Score\n",
      "0                 Kilometraje  2320.792079\n",
      "3             Modelo_Vehiculo  1267.088688\n",
      "9          Provincia_Misiones     3.084307\n",
      "16     Tipo_Empresa_Servicios     2.879253\n",
      "6           Provincia_Cordoba     2.748792\n",
      "17    Tipo_Empresa_Transporte     2.577910\n",
      "5   Costo_Mantenimiento_Anual     2.266194\n",
      "25       Tipo_Vehiculo_Camion     2.189253\n",
      "19                 Marca_Ford     1.821974\n",
      "11         Provincia_Santa Fe     1.805682\n"
     ]
    },
    {
     "data": {
      "image/png": "[encoded data removed]",
      "text/plain": [
       "<Figure size 1000x600 with 1 Axes>"
      ]
     },
     "metadata": {},
     "output_type": "display_data"
    },
    {
     "data": {
      "image/png": "[encoded data removed]",
      "text/plain": [
       "<Figure size 600x400 with 1 Axes>"
      ]
     },
     "metadata": {},
     "output_type": "display_data"
    }
   ],
   "source": [
    "import pandas as pd\n",
    "import numpy as np\n",
    "import matplotlib.pyplot as plt\n",
    "from sklearn.preprocessing import KBinsDiscretizer\n",
    "from sklearn.feature_selection import SelectKBest, chi2\n",
    "import seaborn as sns\n",
    "import matplotlib.pyplot as plt\n",
    "\n",
    "#  Cargar CSV y convertir decimales con coma a punto \n",
    "df = pd.read_csv('ProyectoVentaVehiculos+Milanesio.csv', delimiter=';')\n",
    "\n",
    "decimal_cols = [\n",
    "    'Precio_USD', 'Valor_Dolar',\n",
    "    'Consumo_Litros_100km', 'Costo_Mantenimiento_Anual'\n",
    "]\n",
    "\n",
    "for col in decimal_cols:\n",
    "    df[col] = (\n",
    "        df[col]\n",
    "        .str.replace('.', '', regex=False)     \n",
    "        .str.replace(',', '.', regex=False)\n",
    "        .astype(float)\n",
    "    )\n",
    "\n",
    "# Limpieza mínima y mapeo del target \n",
    "df = df.drop(columns=['ID_Venta', 'Fecha_Venta'])\n",
    "df['Vehiculo_Nuevo'] = df['Vehiculo_Nuevo'].str.upper().map({'SI': 1, 'NO': 0})\n",
    "\n",
    "# Eliminar filas sin target\n",
    "df = df.dropna(subset=['Vehiculo_Nuevo'])\n",
    "\n",
    "#  categóricas \n",
    "df_dummies = pd.get_dummies(df, drop_first=True)\n",
    "X = df_dummies.drop(columns='Vehiculo_Nuevo')\n",
    "y = df_dummies['Vehiculo_Nuevo']\n",
    "\n",
    "\n",
    "\n",
    "# Correlación entre variables numéricas grafico 1\n",
    "correlation_matrix = df_dummies.corr()\n",
    "\n",
    "plt.figure(figsize=(10, 10))\n",
    "sns.heatmap(correlation_matrix, annot=False, cmap='coolwarm', center=0)\n",
    "plt.title(\"Matriz de correlación entre variables (incluye target)\", fontsize=14, fontweight='bold')\n",
    "plt.tight_layout()\n",
    "plt.show()\n",
    "\n",
    "\n",
    "\n",
    "# Discretizar todas las numéricas con KBinsDiscretizer \n",
    "num_cols = X.select_dtypes(include=[np.number]).columns\n",
    "\n",
    "kbd = KBinsDiscretizer(n_bins=10, encode='ordinal', strategy='quantile')\n",
    "X_binned = kbd.fit_transform(X[num_cols])\n",
    "\n",
    "X_binned = pd.DataFrame(X_binned, columns=num_cols, index=X.index).astype(int)\n",
    "\n",
    "# Reunir dummies + variables binned\n",
    "X_final = pd.concat([X_binned, X.drop(columns=num_cols)], axis=1)\n",
    "\n",
    "# Quitar columnas que sigan siendo constantes \n",
    "X_final = X_final.loc[:, X_final.nunique() > 1]\n",
    "\n",
    "# SelectKBest con Chi-cuadrado\n",
    "k_best = min(10, X_final.shape[1])           \n",
    "selector = SelectKBest(chi2, k=k_best)\n",
    "selector.fit(X_final, y)\n",
    "\n",
    "scores = (\n",
    "    pd.DataFrame({'Feature': X_final.columns,\n",
    "                  'Chi2_Score': selector.scores_})\n",
    "    .sort_values(by='Chi2_Score', ascending=False)\n",
    ")\n",
    "\n",
    "top10 = scores.head(10)\n",
    "print(\"Top 10 variables seleccionadas por Chi2:\")\n",
    "print(top10)\n",
    "\n",
    "# Gráfico 2\n",
    "plt.figure(figsize=(10, 6))\n",
    "plt.barh(top10['Feature'][::-1], top10['Chi2_Score'][::-1], color='blue')\n",
    "plt.xlabel('Chi2 Score')\n",
    "plt.title('Top 10 variables más relevantes según Chi2', fontsize=14, fontweight='bold')\n",
    "plt.show()\n",
    "\n",
    "\n",
    "\n",
    "\n",
    "# Grafico 3\n",
    "sns.set(style=\"whitegrid\")\n",
    "plt.figure(figsize=(6, 4))\n",
    "ax = sns.countplot(data=df, x='Vehiculo_Nuevo', color='blue')\n",
    "plt.title(\"Distribución de Vehículos Nuevos vs Usados\", fontsize=14, fontweight='bold')\n",
    "plt.xlabel(\"Tipo de Vehículo\", fontsize=12)\n",
    "plt.ylabel(\"Cantidad\", fontsize=12)\n",
    "plt.xticks([0, 1], [\"Usado\", \"Nuevo\"], fontsize=11)\n",
    "plt.show()\n",
    "\n"
   ]
  },
  {
   "cell_type": "markdown",
   "id": "28d8d7ce",
   "metadata": {},
   "source": [
    "Este resultado representa las 10 variables independientes más relevantes para predecir si un vehículo es nuevo o usado (Vehiculo_Nuevo) según el test chi-cuadrado (χ²) aplicado a variables discretizadas. Los vehículos con más kilometraje tienden fuertemente a ser usados; es la variable más determinante y la distribución está desbalanceada, con más vehículos usados que nuevos."
   ]
  },
  {
   "cell_type": "code",
   "execution_count": 48,
   "id": "19f93f30",
   "metadata": {},
   "outputs": [
    {
     "data": {
      "image/png": "[encoded data removed]",
      "text/plain": [
       "<Figure size 800x600 with 1 Axes>"
      ]
     },
     "metadata": {},
     "output_type": "display_data"
    }
   ],
   "source": [
    "plt.figure(figsize=(8,6))\n",
    "sns.scatterplot(\n",
    "    data=df,\n",
    "    x=\"Modelo_Vehiculo\",\n",
    "    y=\"Kilometraje\",\n",
    "    hue=\"Vehiculo_Nuevo\",\n",
    "    palette=[\"orange\", \"green\"]\n",
    ")\n",
    "plt.title(\"Distribución de vehículos según Modelo y Kilometraje\", fontsize=14)\n",
    "plt.xlabel(\"Modelo del Vehículo (Año)\")\n",
    "plt.ylabel(\"Kilometraje\")\n",
    "plt.legend(title=\"Vehículo Nuevo\", labels=[\"Nuevo\", \"Usado\"])\n",
    "plt.grid(True)\n",
    "plt.show()"
   ]
  },
  {
   "cell_type": "markdown",
   "id": "83c8a9b4",
   "metadata": {},
   "source": [
    "Contexto de los vehiculos nuevos y usados conforme a las dos variables mas relevantes segun resultados de Chi2"
   ]
  },
  {
   "cell_type": "markdown",
   "id": "c021dd38",
   "metadata": {},
   "source": [
    "-----------------------------------------------------------------------------------------------------------------------------------"
   ]
  },
  {
   "cell_type": "markdown",
   "id": "c4361e30",
   "metadata": {},
   "source": [
    "ii y iii. Algoritmo clasificación para entrenar y calculo de metricas para validad el modelo"
   ]
  },
  {
   "cell_type": "markdown",
   "id": "85cd74b3",
   "metadata": {},
   "source": [
    "- Se prueban dos modelos de clasificación:\n",
    "\n",
    "LogisticRegression\n",
    "\n",
    "RandomForestClassifier\n",
    "\n",
    "- Se evalúan con:\n",
    "\n",
    "Accuracy\n",
    "\n",
    "Classification report\n",
    "\n",
    "Matriz de confusión\n",
    "\n",
    "Curva ROC/AUC\n",
    "\n",
    "Validación cruzada (cross_val_score)"
   ]
  },
  {
   "cell_type": "code",
   "execution_count": 26,
   "id": "01229cc4",
   "metadata": {},
   "outputs": [
    {
     "name": "stderr",
     "output_type": "stream",
     "text": [
      "c:\\Users\\nacho\\anaconda3\\Lib\\site-packages\\sklearn\\preprocessing\\_discretization.py:307: UserWarning: Bins whose width are too small (i.e., <= 1e-8) in feature 0 are removed. Consider decreasing the number of bins.\n",
      "  warnings.warn(\n",
      "c:\\Users\\nacho\\anaconda3\\Lib\\site-packages\\sklearn\\preprocessing\\_discretization.py:307: UserWarning: Bins whose width are too small (i.e., <= 1e-8) in feature 3 are removed. Consider decreasing the number of bins.\n",
      "  warnings.warn(\n"
     ]
    },
    {
     "name": "stdout",
     "output_type": "stream",
     "text": [
      "\n",
      "Modelo: Logistic Regression\n",
      "Accuracy: 1.00\n",
      "              precision    recall  f1-score   support\n",
      "\n",
      "           0       1.00      1.00      1.00       283\n",
      "           1       0.99      1.00      1.00       117\n",
      "\n",
      "    accuracy                           1.00       400\n",
      "   macro avg       1.00      1.00      1.00       400\n",
      "weighted avg       1.00      1.00      1.00       400\n",
      "\n"
     ]
    },
    {
     "data": {
      "image/png": "[encoded data removed]",
      "text/plain": [
       "<Figure size 600x400 with 2 Axes>"
      ]
     },
     "metadata": {},
     "output_type": "display_data"
    },
    {
     "name": "stdout",
     "output_type": "stream",
     "text": [
      "\n",
      "Modelo: Random Forest\n",
      "Accuracy: 1.00\n",
      "              precision    recall  f1-score   support\n",
      "\n",
      "           0       1.00      1.00      1.00       283\n",
      "           1       1.00      1.00      1.00       117\n",
      "\n",
      "    accuracy                           1.00       400\n",
      "   macro avg       1.00      1.00      1.00       400\n",
      "weighted avg       1.00      1.00      1.00       400\n",
      "\n"
     ]
    },
    {
     "data": {
      "image/png": "[encoded data removed]",
      "text/plain": [
       "<Figure size 600x400 with 2 Axes>"
      ]
     },
     "metadata": {},
     "output_type": "display_data"
    },
    {
     "name": "stdout",
     "output_type": "stream",
     "text": [
      "\n",
      "Modelo: Logistic Regression\n",
      "Accuracy en cada fold: [0.9925 1.     0.995  1.     0.99  ]\n",
      "Accuracy promedio: 0.9955\n",
      "Desviación estándar: 0.0040\n",
      "\n",
      "Modelo: Random Forest\n",
      "Accuracy en cada fold: [1.     1.     1.     1.     0.9975]\n",
      "Accuracy promedio: 0.9995\n",
      "Desviación estándar: 0.0010\n"
     ]
    },
    {
     "data": {
      "image/png": "[encoded data removed]",
      "text/plain": [
       "<Figure size 800x600 with 1 Axes>"
      ]
     },
     "metadata": {},
     "output_type": "display_data"
    }
   ],
   "source": [
    "import pandas as pd\n",
    "import numpy as np\n",
    "from sklearn.preprocessing import KBinsDiscretizer\n",
    "from sklearn.feature_selection import SelectKBest, chi2\n",
    "from sklearn.model_selection import train_test_split, cross_val_score\n",
    "from sklearn.linear_model import LogisticRegression\n",
    "from sklearn.ensemble import RandomForestClassifier\n",
    "from sklearn.metrics import accuracy_score, classification_report, confusion_matrix\n",
    "import seaborn as sns\n",
    "import matplotlib.pyplot as plt\n",
    "\n",
    "# Variables predictoras y objetivo\n",
    "y = df['Vehiculo_Nuevo'].copy()\n",
    "X = df.drop(columns='Vehiculo_Nuevo')\n",
    "\n",
    "# One-hot encoding\n",
    "X_encoded = pd.get_dummies(X, drop_first=True)\n",
    "\n",
    "# Eliminar columnas constantes\n",
    "X_encoded = X_encoded.loc[:, X_encoded.nunique() > 1]\n",
    "y = y.loc[X_encoded.index]\n",
    "\n",
    "# Discretizar variables numéricas\n",
    "numeric_cols = X_encoded.select_dtypes(include=[np.number]).columns\n",
    "kbd = KBinsDiscretizer(n_bins=10, encode='ordinal', strategy='quantile')\n",
    "X_binned = kbd.fit_transform(X_encoded[numeric_cols])\n",
    "X_binned = pd.DataFrame(X_binned, columns=numeric_cols, index=X_encoded.index).astype(int)\n",
    "\n",
    "# Combinar con categóricas\n",
    "X_discretized = pd.concat([X_binned, X_encoded.drop(columns=numeric_cols)], axis=1)\n",
    "\n",
    "# Selección de variables\n",
    "k_best = min(10, X_discretized.shape[1])\n",
    "selector = SelectKBest(score_func=chi2, k=k_best)\n",
    "selector.fit(X_discretized, y)\n",
    "selected_features = X_discretized.columns[selector.get_support()]\n",
    "X_selected = X_discretized[selected_features]\n",
    "\n",
    "# Train/Test Split\n",
    "X_train, X_test, y_train, y_test = train_test_split(\n",
    "    X_selected, y, test_size=0.2, stratify=y, random_state=42\n",
    ")\n",
    "\n",
    "# Modelos\n",
    "modelos = {\n",
    "    'Logistic Regression': LogisticRegression(max_iter=1000),\n",
    "    'Random Forest': RandomForestClassifier(n_estimators=100, random_state=42)\n",
    "}\n",
    "\n",
    "# Entrenamiento y evaluación\n",
    "for nombre, modelo in modelos.items():\n",
    "    modelo.fit(X_train, y_train)\n",
    "    y_pred = modelo.predict(X_test)\n",
    "    print(f\"\\nModelo: {nombre}\")\n",
    "    print(f\"Accuracy: {accuracy_score(y_test, y_pred):.2f}\")\n",
    "    print(classification_report(y_test, y_pred))\n",
    "\n",
    "    # Matriz de confusión\n",
    "    cm = confusion_matrix(y_test, y_pred)\n",
    "    plt.figure(figsize=(6, 4))\n",
    "    sns.heatmap(cm, annot=True, fmt='d', cmap='Blues')\n",
    "    plt.title(f'Matriz de Confusión - {nombre}')\n",
    "    plt.xlabel('Predicción')\n",
    "    plt.ylabel('Real')\n",
    "    plt.show()\n",
    "\n",
    "\n",
    "\n",
    "# Validación cruzada\n",
    "for nombre, modelo in modelos.items():\n",
    "    scores = cross_val_score(modelo, X_selected, y, cv=5, scoring='accuracy')\n",
    "    print(f\"\\nModelo: {nombre}\")\n",
    "    print(f\"Accuracy en cada fold: {np.round(scores, 4)}\")\n",
    "    print(f\"Accuracy promedio: {scores.mean():.4f}\")\n",
    "    print(f\"Desviación estándar: {scores.std():.4f}\")\n",
    "\n",
    "\n",
    "\n",
    "#AUC/ROc\n",
    "import matplotlib.pyplot as plt\n",
    "from sklearn.metrics import roc_curve, auc\n",
    "\n",
    "plt.figure(figsize=(8, 6))  # Tamaño del gráfico\n",
    "\n",
    "for nombre, modelo in modelos.items():\n",
    "    y_score = modelo.predict_proba(X_test)[:, 1]\n",
    "    fpr, tpr, _ = roc_curve(y_test, y_score)\n",
    "    auc_score = auc(fpr, tpr)\n",
    "    plt.plot(fpr, tpr, linewidth=2, label=f'{nombre} (AUC = {auc_score:.3f})')\n",
    "\n",
    "# Línea base\n",
    "plt.plot([0, 1], [0, 1], 'k--', linewidth=1.5, label='Random classifier')\n",
    "\n",
    "# Personalización\n",
    "plt.title('Curva ROC', fontsize=14)\n",
    "plt.xlabel('False Positive Rate', fontsize=12)\n",
    "plt.ylabel('True Positive Rate', fontsize=12)\n",
    "plt.xticks(fontsize=10)\n",
    "plt.yticks(fontsize=10)\n",
    "plt.grid(True, linestyle='--', alpha=0.7)\n",
    "plt.legend(loc='lower right', fontsize=10)\n",
    "plt.tight_layout()\n",
    "plt.show()"
   ]
  },
  {
   "cell_type": "markdown",
   "id": "1504adf3",
   "metadata": {},
   "source": [
    "-------------------------------------------------------------------------------------------------------------------------------------"
   ]
  },
  {
   "cell_type": "markdown",
   "id": "500a0f12",
   "metadata": {},
   "source": [
    "iv. Conclusiones con base en los resultados obtenidos"
   ]
  },
  {
   "cell_type": "markdown",
   "id": "e8300220",
   "metadata": {},
   "source": [
    "- Se discuten las variables más influyentes.\n",
    "\n",
    "- Se comparan los modelos.\n",
    "\n",
    "- Se proponen aplicaciones prácticas del modelo en un contexto comercial."
   ]
  },
  {
   "cell_type": "markdown",
   "id": "d30d88a1",
   "metadata": {},
   "source": [
    "Conforme a los resultado:\n",
    "\n",
    "- Clase 0 (posiblemente \"No compró vehículo nuevo\"): El modelo identificó todos correctamente.\n",
    "\n",
    "- Clase 1 (posiblemente \"Sí compró vehículo nuevo\"): El modelo se equivocó muy poco (precision de 0.99), pero detectó todos los casos positivos (recall 1.00).\n",
    "\n",
    "\n",
    "Esto significa que ambos modelos predicen perfectamente (o casi perfectamente) los datos de prueba y esto significa que el modelo es realmente bueno, debido a que los datos contienen variables muy predictivas para saber si alguien compra un vehículo nuevo."
   ]
  },
  {
   "cell_type": "markdown",
   "id": "1935ea9d",
   "metadata": {},
   "source": [
    "Modelo: Logistic Regression\n",
    "Accuracy en cada fold: [0.9925, 1, 0.995, 1, 0.99]\n",
    "\n",
    "Esto indica el rendimiento (precisión) del modelo en cada uno de los 5 subconjuntos en que se dividió el dataset.\n",
    "\n",
    "Todos los valores están muy cerca de 1 (o 100%), lo que muestra un rendimiento altamente consistente.\n",
    "\n",
    "Accuracy promedio: 0.9955\n",
    "\n",
    "El promedio de las precisiones anteriores: el modelo acierta aproximadamente el 99.55% de las veces.\n",
    "\n",
    "Desviación estándar: 0.0040\n",
    "\n",
    "Mide la variabilidad entre los resultados de los folds.\n",
    "\n",
    "Cuanto más baja, más consistente es el modelo. En este caso, la variabilidad es muy baja.\n",
    "\n",
    "Modelo: Random Forest\n",
    "Accuracy en cada fold: [1, 1, 1, 1, 0.9975]\n",
    "\n",
    "El modelo tuvo un rendimiento casi perfecto, con solo un fold levemente por debajo del 100%.\n",
    "\n",
    "Accuracy promedio: 0.9995\n",
    "\n",
    "Precisión media del 99.95%, lo cual es altísimo.\n",
    "\n",
    "Desviación estándar: 0.0010\n",
    "\n",
    "La variabilidad es incluso más baja que en el modelo anterior, lo que indica un modelo muy robusto y estable.\n",
    "\n"
   ]
  },
  {
   "cell_type": "markdown",
   "id": "dad29c64",
   "metadata": {},
   "source": [
    "De esta forma concluimos que las variables más influyentes en la predicción de un vehículo nuevo fueron: Kilometraje y Modelo_Vehiculo\n",
    "\n",
    "Ambos modelos alcanzaron precisiones cercanas al 100%, lo que sugiere un conjunto de datos altamente separable. Sin embargo, esto se debe a patrones muy definidos (e.g., los vehículos nuevos tienen casi siempre 0 km).\n",
    "\n",
    "El modelo Random Forest tuvo una leve ventaja en estabilidad (menor desviación en la validación cruzada).\n",
    "\n",
    "Aplicación práctica:\n",
    "\n",
    "Las concesionarias podrían usar estos modelos para segmentar compradores potenciales de autos nuevos, optimizando estrategias de marketing según características como el kilometraje o la marca preferida.\n",
    "\n",
    "También podrían predecir el tipo de venta esperada (nuevo/usado) en función del perfil del vehículo ofrecido, ajustando sus promociones y campañas.\n",
    "\n",
    "Recomendaciones:\n",
    "\n",
    "Es fundamental aplicar técnicas de balanceo de clases (como SMOTE) para futuros entrenamientos.\n",
    "\n"
   ]
  }
 ],
 "metadata": {
  "kernelspec": {
   "display_name": "base",
   "language": "python",
   "name": "python3"
  },
  "language_info": {
   "codemirror_mode": {
    "name": "ipython",
    "version": 3
   },
   "file_extension": ".py",
   "mimetype": "text/x-python",
   "name": "python",
   "nbconvert_exporter": "python",
   "pygments_lexer": "ipython3",
   "version": "3.12.7"
  }
 },
 "nbformat": 4,
 "nbformat_minor": 5
}
